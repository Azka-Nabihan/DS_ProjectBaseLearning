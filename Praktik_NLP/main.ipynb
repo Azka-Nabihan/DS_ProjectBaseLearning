{
 "cells": [
  {
   "cell_type": "markdown",
   "metadata": {},
   "source": [
    "# Library"
   ]
  },
  {
   "cell_type": "code",
   "execution_count": 4,
   "metadata": {},
   "outputs": [],
   "source": [
    "# pip install google-play-scraper\n",
    "\n",
    "# import library\n",
    "from google_play_scraper import app, reviews, Sort, reviews_all"
   ]
  },
  {
   "cell_type": "code",
   "execution_count": 5,
   "metadata": {},
   "outputs": [
    {
     "name": "stderr",
     "output_type": "stream",
     "text": [
      "C:\\Users\\azkan\\AppData\\Local\\Temp\\ipykernel_40764\\1622370964.py:1: DeprecationWarning: \n",
      "Pyarrow will become a required dependency of pandas in the next major release of pandas (pandas 3.0),\n",
      "(to allow more performant data types, such as the Arrow string type, and better interoperability with other libraries)\n",
      "but was not found to be installed on your system.\n",
      "If this would cause problems for you,\n",
      "please provide us feedback at https://github.com/pandas-dev/pandas/issues/54466\n",
      "        \n",
      "  import pandas as pd\n",
      "[nltk_data] Downloading package punkt to\n",
      "[nltk_data]     C:\\Users\\azkan\\AppData\\Roaming\\nltk_data...\n",
      "[nltk_data]   Package punkt is already up-to-date!\n",
      "[nltk_data] Downloading package stopwords to\n",
      "[nltk_data]     C:\\Users\\azkan\\AppData\\Roaming\\nltk_data...\n",
      "[nltk_data]   Package stopwords is already up-to-date!\n"
     ]
    },
    {
     "data": {
      "text/plain": [
       "True"
      ]
     },
     "execution_count": 5,
     "metadata": {},
     "output_type": "execute_result"
    }
   ],
   "source": [
    "import pandas as pd\n",
    "pd.options.mode.chained_assignment = None # menonatifkan peringatan chaining\n",
    "\n",
    "import numpy as np \n",
    "seed = 0\n",
    "np.random.seed(seed) # Mengatur seed untuk reproduktibilitas\n",
    "\n",
    "import matplotlib.pyplot as plt # Visualisasi data\n",
    "import seaborn as sns # Seaborn untuk visualisasi data statistik, mengatur gaya visualisasi\n",
    "\n",
    "import datetime as dt # Manipulasi data waktu dan tanggal\n",
    "import re # Modul untuk bekerja dengan ekspresi reguler\n",
    "import string # berisi konstanta string, seperti tanda baca\n",
    "\n",
    "from nltk.tokenize import word_tokenize # Tokenisasia teks\n",
    "from nltk.corpus import stopwords # Daftar kata-kata berhenti dalam teks\n",
    "\n",
    "# pip install sastrawi\n",
    "from Sastrawi.Stemmer.StemmerFactory import StemmerFactory # Stemming (penghilangan imbuhan kata)\n",
    "from Sastrawi.StopWordRemover.StopWordRemoverFactory import StopWordRemoverFactory # Menghapus stopwords\n",
    "\n",
    "from wordcloud import WordCloud # Membuat visualisasi berbentuk awan kata \n",
    "\n",
    "import nltk # Import pustaka NLTK (Natural Language Toolkit)\n",
    "nltk.download('punkt') # Mengunduh dataset yang diperlukan untuk tokenisasi teks\n",
    "nltk.download('stopwords')  # Mengunduh dataset yang berisi daftar kata-kata berhenti (stopwords) dalam bahasa indonesia"
   ]
  },
  {
   "cell_type": "markdown",
   "metadata": {},
   "source": [
    "# Scraping Dataset"
   ]
  },
  {
   "cell_type": "markdown",
   "metadata": {},
   "source": [
    "menggunakan library 'google_play_scraper' untuk mengakses ulasan dan informasi aplikasi dari Google Play Store. Dalam kode ini, kita menggunakan fungsi `reviews_all()` untuk mengambil semua ulasan dari aplikasi tersebut."
   ]
  },
  {
   "cell_type": "code",
   "execution_count": 6,
   "metadata": {},
   "outputs": [],
   "source": [
    "from google_play_scraper import app, reviews_all, Sort"
   ]
  },
  {
   "cell_type": "code",
   "execution_count": 7,
   "metadata": {},
   "outputs": [],
   "source": [
    "# Mengambil semua ulasan dari aplikasi dengan ID 'com.byu.id' di Google Play Store.\n",
    "# Proses scraping mungkin memerlukan beberapa saat tergantung pada jumlah ulasan yang ada.\n",
    "scrapreview = reviews_all(\n",
    "    'com.byu.id',          # ID aplikasi\n",
    "    lang='id',             # Bahasa ulasan (default: 'en')\n",
    "    country='id',          # Negara (default: 'us')\n",
    "    sort=Sort.MOST_RELEVANT, # Urutan ulasan (default: Sort.MOST_RELEVANT)\n",
    "    count=1000             # Jumlah maksimum ulasan yang ingin diambil\n",
    ")\n"
   ]
  },
  {
   "cell_type": "markdown",
   "metadata": {},
   "source": [
    "# Loading Dataset"
   ]
  },
  {
   "cell_type": "code",
   "execution_count": 8,
   "metadata": {},
   "outputs": [],
   "source": [
    "# Menyimpan ulasan dalam file csv\n",
    "import csv\n",
    "\n",
    "with open('ulasan_aplikasi.csv', mode='w', newline='', encoding='utf-8') as file:\n",
    "    writer = csv.writer(file)\n",
    "    writer.writerow(['Review'])  # Menulis header kolom\n",
    "    for review in scrapreview:\n",
    "        writer.writerow([review['content']])  # Menulis konten ulasan ke dalam file CSV"
   ]
  },
  {
   "cell_type": "code",
   "execution_count": 9,
   "metadata": {},
   "outputs": [
    {
     "data": {
      "text/html": [
       "<div>\n",
       "<style scoped>\n",
       "    .dataframe tbody tr th:only-of-type {\n",
       "        vertical-align: middle;\n",
       "    }\n",
       "\n",
       "    .dataframe tbody tr th {\n",
       "        vertical-align: top;\n",
       "    }\n",
       "\n",
       "    .dataframe thead th {\n",
       "        text-align: right;\n",
       "    }\n",
       "</style>\n",
       "<table border=\"1\" class=\"dataframe\">\n",
       "  <thead>\n",
       "    <tr style=\"text-align: right;\">\n",
       "      <th></th>\n",
       "      <th>reviewId</th>\n",
       "      <th>userName</th>\n",
       "      <th>userImage</th>\n",
       "      <th>content</th>\n",
       "      <th>score</th>\n",
       "      <th>thumbsUpCount</th>\n",
       "      <th>reviewCreatedVersion</th>\n",
       "      <th>at</th>\n",
       "      <th>replyContent</th>\n",
       "      <th>repliedAt</th>\n",
       "      <th>appVersion</th>\n",
       "    </tr>\n",
       "  </thead>\n",
       "  <tbody>\n",
       "    <tr>\n",
       "      <th>0</th>\n",
       "      <td>ae75ea02-47b6-43a6-9853-344bb45f0455</td>\n",
       "      <td>Pengguna Google</td>\n",
       "      <td>https://play-lh.googleusercontent.com/EGemoI2N...</td>\n",
       "      <td>Perbaikin dulu aplikasinya, jaringan stabil be...</td>\n",
       "      <td>3</td>\n",
       "      <td>43</td>\n",
       "      <td>1.55.0</td>\n",
       "      <td>2024-06-26 23:25:12</td>\n",
       "      <td>Hi, Kak. Maaf banget jadi bikin gak nyaman. Ni...</td>\n",
       "      <td>2024-06-27 21:56:30</td>\n",
       "      <td>1.55.0</td>\n",
       "    </tr>\n",
       "    <tr>\n",
       "      <th>1</th>\n",
       "      <td>85d141d6-fce7-4d4e-a016-a665633fe5b4</td>\n",
       "      <td>Pengguna Google</td>\n",
       "      <td>https://play-lh.googleusercontent.com/EGemoI2N...</td>\n",
       "      <td>Jadi saya akan mulai dengan memberitahu bahwa ...</td>\n",
       "      <td>1</td>\n",
       "      <td>8</td>\n",
       "      <td>1.55.0</td>\n",
       "      <td>2024-07-10 22:55:50</td>\n",
       "      <td>Hi, Kak. Maaf banget jadi bikin gak nyaman. Ni...</td>\n",
       "      <td>2024-07-10 23:42:24</td>\n",
       "      <td>1.55.0</td>\n",
       "    </tr>\n",
       "    <tr>\n",
       "      <th>2</th>\n",
       "      <td>7095b585-ce65-49f9-a9ee-170773fb55df</td>\n",
       "      <td>Pengguna Google</td>\n",
       "      <td>https://play-lh.googleusercontent.com/EGemoI2N...</td>\n",
       "      <td>Untuk kecepatan jaringan mohon lebih ditingkat...</td>\n",
       "      <td>1</td>\n",
       "      <td>1</td>\n",
       "      <td>1.55.0</td>\n",
       "      <td>2024-07-10 09:13:18</td>\n",
       "      <td>Hi, Kak. Maaf banget jadi bikin gak nyaman. Ni...</td>\n",
       "      <td>2024-07-10 21:13:07</td>\n",
       "      <td>1.55.0</td>\n",
       "    </tr>\n",
       "    <tr>\n",
       "      <th>3</th>\n",
       "      <td>cc4fbfad-d0a0-495a-a7ce-00ba02478e16</td>\n",
       "      <td>Pengguna Google</td>\n",
       "      <td>https://play-lh.googleusercontent.com/EGemoI2N...</td>\n",
       "      <td>Tolonglah ya buat aplikasi By.U ini, sering ba...</td>\n",
       "      <td>1</td>\n",
       "      <td>99</td>\n",
       "      <td>1.55.0</td>\n",
       "      <td>2024-07-03 21:31:55</td>\n",
       "      <td>Hi, Kak. Maaf banget jadi bikin gak nyaman. Ni...</td>\n",
       "      <td>2024-07-03 21:34:55</td>\n",
       "      <td>1.55.0</td>\n",
       "    </tr>\n",
       "    <tr>\n",
       "      <th>4</th>\n",
       "      <td>d67e1a7a-12ad-4c0c-93a0-b7c184126420</td>\n",
       "      <td>Pengguna Google</td>\n",
       "      <td>https://play-lh.googleusercontent.com/EGemoI2N...</td>\n",
       "      <td>Jaringan nya kadang lelet banget dan sekarang ...</td>\n",
       "      <td>3</td>\n",
       "      <td>44</td>\n",
       "      <td>1.55.0</td>\n",
       "      <td>2024-06-16 08:26:36</td>\n",
       "      <td>Halo, pagi Kak :) Maaf banget ya Kak jadi biki...</td>\n",
       "      <td>2024-06-16 08:31:31</td>\n",
       "      <td>1.55.0</td>\n",
       "    </tr>\n",
       "  </tbody>\n",
       "</table>\n",
       "</div>"
      ],
      "text/plain": [
       "                               reviewId         userName  \\\n",
       "0  ae75ea02-47b6-43a6-9853-344bb45f0455  Pengguna Google   \n",
       "1  85d141d6-fce7-4d4e-a016-a665633fe5b4  Pengguna Google   \n",
       "2  7095b585-ce65-49f9-a9ee-170773fb55df  Pengguna Google   \n",
       "3  cc4fbfad-d0a0-495a-a7ce-00ba02478e16  Pengguna Google   \n",
       "4  d67e1a7a-12ad-4c0c-93a0-b7c184126420  Pengguna Google   \n",
       "\n",
       "                                           userImage  \\\n",
       "0  https://play-lh.googleusercontent.com/EGemoI2N...   \n",
       "1  https://play-lh.googleusercontent.com/EGemoI2N...   \n",
       "2  https://play-lh.googleusercontent.com/EGemoI2N...   \n",
       "3  https://play-lh.googleusercontent.com/EGemoI2N...   \n",
       "4  https://play-lh.googleusercontent.com/EGemoI2N...   \n",
       "\n",
       "                                             content  score  thumbsUpCount  \\\n",
       "0  Perbaikin dulu aplikasinya, jaringan stabil be...      3             43   \n",
       "1  Jadi saya akan mulai dengan memberitahu bahwa ...      1              8   \n",
       "2  Untuk kecepatan jaringan mohon lebih ditingkat...      1              1   \n",
       "3  Tolonglah ya buat aplikasi By.U ini, sering ba...      1             99   \n",
       "4  Jaringan nya kadang lelet banget dan sekarang ...      3             44   \n",
       "\n",
       "  reviewCreatedVersion                  at  \\\n",
       "0               1.55.0 2024-06-26 23:25:12   \n",
       "1               1.55.0 2024-07-10 22:55:50   \n",
       "2               1.55.0 2024-07-10 09:13:18   \n",
       "3               1.55.0 2024-07-03 21:31:55   \n",
       "4               1.55.0 2024-06-16 08:26:36   \n",
       "\n",
       "                                        replyContent           repliedAt  \\\n",
       "0  Hi, Kak. Maaf banget jadi bikin gak nyaman. Ni... 2024-06-27 21:56:30   \n",
       "1  Hi, Kak. Maaf banget jadi bikin gak nyaman. Ni... 2024-07-10 23:42:24   \n",
       "2  Hi, Kak. Maaf banget jadi bikin gak nyaman. Ni... 2024-07-10 21:13:07   \n",
       "3  Hi, Kak. Maaf banget jadi bikin gak nyaman. Ni... 2024-07-03 21:34:55   \n",
       "4  Halo, pagi Kak :) Maaf banget ya Kak jadi biki... 2024-06-16 08:31:31   \n",
       "\n",
       "  appVersion  \n",
       "0     1.55.0  \n",
       "1     1.55.0  \n",
       "2     1.55.0  \n",
       "3     1.55.0  \n",
       "4     1.55.0  "
      ]
     },
     "execution_count": 9,
     "metadata": {},
     "output_type": "execute_result"
    }
   ],
   "source": [
    "app_reviews_df = pd.DataFrame(scrapreview)\n",
    "app_reviews_df.shape\n",
    "app_reviews_df.head()"
   ]
  },
  {
   "cell_type": "markdown",
   "metadata": {},
   "source": [
    "## Make a File"
   ]
  },
  {
   "cell_type": "code",
   "execution_count": 10,
   "metadata": {},
   "outputs": [],
   "source": [
    "app_reviews_df.to_csv('ulasan_aplikasi.csv', index=False)"
   ]
  },
  {
   "cell_type": "code",
   "execution_count": 11,
   "metadata": {},
   "outputs": [
    {
     "data": {
      "text/html": [
       "<div>\n",
       "<style scoped>\n",
       "    .dataframe tbody tr th:only-of-type {\n",
       "        vertical-align: middle;\n",
       "    }\n",
       "\n",
       "    .dataframe tbody tr th {\n",
       "        vertical-align: top;\n",
       "    }\n",
       "\n",
       "    .dataframe thead th {\n",
       "        text-align: right;\n",
       "    }\n",
       "</style>\n",
       "<table border=\"1\" class=\"dataframe\">\n",
       "  <thead>\n",
       "    <tr style=\"text-align: right;\">\n",
       "      <th></th>\n",
       "      <th>reviewId</th>\n",
       "      <th>userName</th>\n",
       "      <th>userImage</th>\n",
       "      <th>content</th>\n",
       "      <th>score</th>\n",
       "      <th>thumbsUpCount</th>\n",
       "      <th>reviewCreatedVersion</th>\n",
       "      <th>at</th>\n",
       "      <th>replyContent</th>\n",
       "      <th>repliedAt</th>\n",
       "      <th>appVersion</th>\n",
       "    </tr>\n",
       "  </thead>\n",
       "  <tbody>\n",
       "    <tr>\n",
       "      <th>0</th>\n",
       "      <td>ae75ea02-47b6-43a6-9853-344bb45f0455</td>\n",
       "      <td>Pengguna Google</td>\n",
       "      <td>https://play-lh.googleusercontent.com/EGemoI2N...</td>\n",
       "      <td>Perbaikin dulu aplikasinya, jaringan stabil be...</td>\n",
       "      <td>3</td>\n",
       "      <td>43</td>\n",
       "      <td>1.55.0</td>\n",
       "      <td>2024-06-26 23:25:12</td>\n",
       "      <td>Hi, Kak. Maaf banget jadi bikin gak nyaman. Ni...</td>\n",
       "      <td>2024-06-27 21:56:30</td>\n",
       "      <td>1.55.0</td>\n",
       "    </tr>\n",
       "    <tr>\n",
       "      <th>1</th>\n",
       "      <td>85d141d6-fce7-4d4e-a016-a665633fe5b4</td>\n",
       "      <td>Pengguna Google</td>\n",
       "      <td>https://play-lh.googleusercontent.com/EGemoI2N...</td>\n",
       "      <td>Jadi saya akan mulai dengan memberitahu bahwa ...</td>\n",
       "      <td>1</td>\n",
       "      <td>8</td>\n",
       "      <td>1.55.0</td>\n",
       "      <td>2024-07-10 22:55:50</td>\n",
       "      <td>Hi, Kak. Maaf banget jadi bikin gak nyaman. Ni...</td>\n",
       "      <td>2024-07-10 23:42:24</td>\n",
       "      <td>1.55.0</td>\n",
       "    </tr>\n",
       "    <tr>\n",
       "      <th>2</th>\n",
       "      <td>7095b585-ce65-49f9-a9ee-170773fb55df</td>\n",
       "      <td>Pengguna Google</td>\n",
       "      <td>https://play-lh.googleusercontent.com/EGemoI2N...</td>\n",
       "      <td>Untuk kecepatan jaringan mohon lebih ditingkat...</td>\n",
       "      <td>1</td>\n",
       "      <td>1</td>\n",
       "      <td>1.55.0</td>\n",
       "      <td>2024-07-10 09:13:18</td>\n",
       "      <td>Hi, Kak. Maaf banget jadi bikin gak nyaman. Ni...</td>\n",
       "      <td>2024-07-10 21:13:07</td>\n",
       "      <td>1.55.0</td>\n",
       "    </tr>\n",
       "    <tr>\n",
       "      <th>3</th>\n",
       "      <td>cc4fbfad-d0a0-495a-a7ce-00ba02478e16</td>\n",
       "      <td>Pengguna Google</td>\n",
       "      <td>https://play-lh.googleusercontent.com/EGemoI2N...</td>\n",
       "      <td>Tolonglah ya buat aplikasi By.U ini, sering ba...</td>\n",
       "      <td>1</td>\n",
       "      <td>99</td>\n",
       "      <td>1.55.0</td>\n",
       "      <td>2024-07-03 21:31:55</td>\n",
       "      <td>Hi, Kak. Maaf banget jadi bikin gak nyaman. Ni...</td>\n",
       "      <td>2024-07-03 21:34:55</td>\n",
       "      <td>1.55.0</td>\n",
       "    </tr>\n",
       "    <tr>\n",
       "      <th>4</th>\n",
       "      <td>d67e1a7a-12ad-4c0c-93a0-b7c184126420</td>\n",
       "      <td>Pengguna Google</td>\n",
       "      <td>https://play-lh.googleusercontent.com/EGemoI2N...</td>\n",
       "      <td>Jaringan nya kadang lelet banget dan sekarang ...</td>\n",
       "      <td>3</td>\n",
       "      <td>44</td>\n",
       "      <td>1.55.0</td>\n",
       "      <td>2024-06-16 08:26:36</td>\n",
       "      <td>Halo, pagi Kak :) Maaf banget ya Kak jadi biki...</td>\n",
       "      <td>2024-06-16 08:31:31</td>\n",
       "      <td>1.55.0</td>\n",
       "    </tr>\n",
       "  </tbody>\n",
       "</table>\n",
       "</div>"
      ],
      "text/plain": [
       "                               reviewId         userName  \\\n",
       "0  ae75ea02-47b6-43a6-9853-344bb45f0455  Pengguna Google   \n",
       "1  85d141d6-fce7-4d4e-a016-a665633fe5b4  Pengguna Google   \n",
       "2  7095b585-ce65-49f9-a9ee-170773fb55df  Pengguna Google   \n",
       "3  cc4fbfad-d0a0-495a-a7ce-00ba02478e16  Pengguna Google   \n",
       "4  d67e1a7a-12ad-4c0c-93a0-b7c184126420  Pengguna Google   \n",
       "\n",
       "                                           userImage  \\\n",
       "0  https://play-lh.googleusercontent.com/EGemoI2N...   \n",
       "1  https://play-lh.googleusercontent.com/EGemoI2N...   \n",
       "2  https://play-lh.googleusercontent.com/EGemoI2N...   \n",
       "3  https://play-lh.googleusercontent.com/EGemoI2N...   \n",
       "4  https://play-lh.googleusercontent.com/EGemoI2N...   \n",
       "\n",
       "                                             content  score  thumbsUpCount  \\\n",
       "0  Perbaikin dulu aplikasinya, jaringan stabil be...      3             43   \n",
       "1  Jadi saya akan mulai dengan memberitahu bahwa ...      1              8   \n",
       "2  Untuk kecepatan jaringan mohon lebih ditingkat...      1              1   \n",
       "3  Tolonglah ya buat aplikasi By.U ini, sering ba...      1             99   \n",
       "4  Jaringan nya kadang lelet banget dan sekarang ...      3             44   \n",
       "\n",
       "  reviewCreatedVersion                  at  \\\n",
       "0               1.55.0 2024-06-26 23:25:12   \n",
       "1               1.55.0 2024-07-10 22:55:50   \n",
       "2               1.55.0 2024-07-10 09:13:18   \n",
       "3               1.55.0 2024-07-03 21:31:55   \n",
       "4               1.55.0 2024-06-16 08:26:36   \n",
       "\n",
       "                                        replyContent           repliedAt  \\\n",
       "0  Hi, Kak. Maaf banget jadi bikin gak nyaman. Ni... 2024-06-27 21:56:30   \n",
       "1  Hi, Kak. Maaf banget jadi bikin gak nyaman. Ni... 2024-07-10 23:42:24   \n",
       "2  Hi, Kak. Maaf banget jadi bikin gak nyaman. Ni... 2024-07-10 21:13:07   \n",
       "3  Hi, Kak. Maaf banget jadi bikin gak nyaman. Ni... 2024-07-03 21:34:55   \n",
       "4  Halo, pagi Kak :) Maaf banget ya Kak jadi biki... 2024-06-16 08:31:31   \n",
       "\n",
       "  appVersion  \n",
       "0     1.55.0  \n",
       "1     1.55.0  \n",
       "2     1.55.0  \n",
       "3     1.55.0  \n",
       "4     1.55.0  "
      ]
     },
     "execution_count": 11,
     "metadata": {},
     "output_type": "execute_result"
    }
   ],
   "source": [
    "# Membuat DataFrame dari hasil scrapreview\n",
    "app_reviews_df = pd.DataFrame(scrapreview)\n",
    "\n",
    "# Menghitung jumlah baris dan kolom dalam Dataframe\n",
    "jumlah_ulasan, jumlah_kolom = app_reviews_df.shape\n",
    "    \n",
    "# Menampilkan\n",
    "app_reviews_df.head()"
   ]
  },
  {
   "cell_type": "markdown",
   "metadata": {},
   "source": [
    "# EDA"
   ]
  },
  {
   "cell_type": "markdown",
   "metadata": {},
   "source": [
    "## Menampilkan informasi tentang DataFrame app_reviews_df"
   ]
  },
  {
   "cell_type": "code",
   "execution_count": 12,
   "metadata": {},
   "outputs": [
    {
     "name": "stdout",
     "output_type": "stream",
     "text": [
      "<class 'pandas.core.frame.DataFrame'>\n",
      "RangeIndex: 135056 entries, 0 to 135055\n",
      "Data columns (total 11 columns):\n",
      " #   Column                Non-Null Count   Dtype         \n",
      "---  ------                --------------   -----         \n",
      " 0   reviewId              135056 non-null  object        \n",
      " 1   userName              135056 non-null  object        \n",
      " 2   userImage             135056 non-null  object        \n",
      " 3   content               135055 non-null  object        \n",
      " 4   score                 135056 non-null  int64         \n",
      " 5   thumbsUpCount         135056 non-null  int64         \n",
      " 6   reviewCreatedVersion  113729 non-null  object        \n",
      " 7   at                    135056 non-null  datetime64[ns]\n",
      " 8   replyContent          119081 non-null  object        \n",
      " 9   repliedAt             119081 non-null  datetime64[ns]\n",
      " 10  appVersion            113729 non-null  object        \n",
      "dtypes: datetime64[ns](2), int64(2), object(7)\n",
      "memory usage: 11.3+ MB\n"
     ]
    }
   ],
   "source": [
    "app_reviews_df.info()"
   ]
  },
  {
   "cell_type": "markdown",
   "metadata": {},
   "source": [
    "terdapat 11 kolom dengan 135,058 baris"
   ]
  },
  {
   "cell_type": "markdown",
   "metadata": {},
   "source": [
    "## Menghapus baris yang memiliki nilai yang hilang"
   ]
  },
  {
   "cell_type": "code",
   "execution_count": 13,
   "metadata": {},
   "outputs": [],
   "source": [
    "clean_df = app_reviews_df.dropna()"
   ]
  },
  {
   "cell_type": "markdown",
   "metadata": {},
   "source": [
    "## Menghapus baris duplikat "
   ]
  },
  {
   "cell_type": "code",
   "execution_count": 14,
   "metadata": {},
   "outputs": [],
   "source": [
    "clean_df = clean_df.drop_duplicates()\n",
    "\n",
    "# Menghitung jumlah baris dan kolom dalam DataFrame clean_df setelah menghapus duplikat\n",
    "jumlah_ulasan_setelah_hapus_duplikat, jumlah_kolom_setelah_hapus_duplikat = clean_df.shape"
   ]
  },
  {
   "cell_type": "code",
   "execution_count": 15,
   "metadata": {},
   "outputs": [
    {
     "name": "stdout",
     "output_type": "stream",
     "text": [
      "<class 'pandas.core.frame.DataFrame'>\n",
      "Index: 99953 entries, 0 to 128603\n",
      "Data columns (total 11 columns):\n",
      " #   Column                Non-Null Count  Dtype         \n",
      "---  ------                --------------  -----         \n",
      " 0   reviewId              99953 non-null  object        \n",
      " 1   userName              99953 non-null  object        \n",
      " 2   userImage             99953 non-null  object        \n",
      " 3   content               99953 non-null  object        \n",
      " 4   score                 99953 non-null  int64         \n",
      " 5   thumbsUpCount         99953 non-null  int64         \n",
      " 6   reviewCreatedVersion  99953 non-null  object        \n",
      " 7   at                    99953 non-null  datetime64[ns]\n",
      " 8   replyContent          99953 non-null  object        \n",
      " 9   repliedAt             99953 non-null  datetime64[ns]\n",
      " 10  appVersion            99953 non-null  object        \n",
      "dtypes: datetime64[ns](2), int64(2), object(7)\n",
      "memory usage: 9.2+ MB\n"
     ]
    }
   ],
   "source": [
    "clean_df.info()"
   ]
  },
  {
   "cell_type": "markdown",
   "metadata": {},
   "source": [
    "hasil akhir menjadi 99,977 baris"
   ]
  },
  {
   "cell_type": "markdown",
   "metadata": {},
   "source": [
    "# Preprocessing Text"
   ]
  },
  {
   "cell_type": "markdown",
   "metadata": {},
   "source": [
    "Preprocessing text adalah proses membersihkan, memproses, dan mempersiapkan teks mentah agar dapat diolah lebih lanjut dengan tepat dan akurat. Langkah-langkah preprocessing ini bertujuan menghilangkan noise, mengonversi teks ke format yang konsisten, serta mengekstraksi fitur-fitur penting untuk analisis lebih lanjut.\n",
    "\n",
    "Berikut adalah beberapa fungsi yang digunakan untuk membersihkan dan memproses teks. Inilah penjelasan singkat tentang masing-masing fungsi:\n",
    "\n",
    "1. `cleaningText(text)`: Fungsi ini digunakan untuk membersihkan teks dengan beberapa langkah, seperti menghapus mention, hashtag, RT (retweet), tautan (link), angka, dan tanda baca. Selain itu, itu juga menggantikan karakter newline dengan spasi dan menghilangkan spasi ekstra di awal dan akhir teks.\n",
    "\n",
    "2. `casefoldingText(text)`: Fungsi ini mengonversi semua karakter dalam teks menjadi huruf kecil (lowercase), sehingga teks menjadi lebih seragam.\n",
    "\n",
    "3. `tokenizingText(text)`: Fungsi ini digunakan untuk membagi teks menjadi daftar kata atau token. Ini berguna untuk mengurai teks menjadi komponen-komponen dasar.\n",
    "\n",
    "4. `filteringText(text)`: Fungsi ini digunakan untuk menghapus kata-kata berhenti (stopwords) dalam teks. Anda telah memperbarui daftar kata-kata berhenti dengan beberapa kata tambahan.\n",
    "\n",
    "5. `stemmingText(text)`: Fungsi ini menerapkan stemming pada teks, yaitu mengurangi kata-kata menjadi bentuk dasarnya. Anda menggunakan pustaka Sastrawi untuk melakukan stemming dalam bahasa Indonesia.\n",
    "\n",
    "6. `toSentence(list_words)`: Fungsi ini digunakan untuk menggabungkan daftar kata-kata menjadi sebuah kalimat."
   ]
  },
  {
   "cell_type": "code",
   "execution_count": 16,
   "metadata": {},
   "outputs": [],
   "source": [
    "def cleaningText(text):\n",
    "    text = re.sub(r'@[A-Za-z0-9]+', '', text) # menghapus mention\n",
    "    text = re.sub(r'#[A-Za-z0-9]+', '', text) # menghapus hashtag\n",
    "    text = re.sub(r'RT[\\s]', '', text) # menghapus RT\n",
    "    text = re.sub(r\"http\\S+\", '', text) # menghapus link\n",
    "    text = re.sub(r'[0-9]+', '', text) # menghapus angka\n",
    "    text = re.sub(r'[^\\w\\s]', '', text) # menghapus karakter selain huruf dan angka\n",
    "    \n",
    "    text = text.replace('\\n', ' ') # mengganti baris baru dengan spasi\n",
    "    text = text.translate(str.maketrans('', '', string.punctuation)) # menghapus semua tanda baca\n",
    "    text = text.strip(' ') # menghapus karakter spasi dari kiri dan kanan teks\n",
    "    return text"
   ]
  },
  {
   "cell_type": "markdown",
   "metadata": {},
   "source": [
    "modul `re` dalam python digunakan untuk mnecari, mencocokan, dan memodifikasi string menggunakan pola yang didefinisikan.\n",
    "- `re.sub()` ini menggantikan semua kemunculan pola dengan string pengganti"
   ]
  },
  {
   "cell_type": "code",
   "execution_count": 17,
   "metadata": {},
   "outputs": [],
   "source": [
    "# Mengubah semua karakter dalam teks menjadi huruf kecil\n",
    "def casefoldingText(text):  \n",
    "    text = text.lower()\n",
    "    return text\n",
    "\n",
    "# Memecah atau membagi string, teks menjadi daftar token\n",
    "def tokenizingText(text):\n",
    "    text = word_tokenize(text)\n",
    "    return text"
   ]
  },
  {
   "cell_type": "markdown",
   "metadata": {},
   "source": [
    "## Menghapus stopwords dalam text"
   ]
  },
  {
   "cell_type": "code",
   "execution_count": 18,
   "metadata": {},
   "outputs": [],
   "source": [
    "def filteringText(text):\n",
    "    try:\n",
    "        # Ambil daftar stopwords bahasa Indonesia dari NLTK\n",
    "        listStopwords = set(stopwords.words('indonesian'))\n",
    "    except LookupError:\n",
    "        # Jika tidak tersedia, gunakan stopwords manual\n",
    "        listStopwords = set([\n",
    "        'yang', 'di', 'dan', 'untuk', 'dari', 'pada', 'dengan', 'atau', 'adalah', 'ini', 'itu', 'ke', 'sebagai', 'kami', 'kita',\n",
    "        'saya', 'sudah', 'belum', 'sangat', 'besar', 'lebih', 'bisa', 'apa', 'dapat', 'ini', 'itu', 'yang', 'dengan', 'di', 'daripada',\n",
    "        'oleh', 'seperti', 'namun', 'mereka', 'bagi', 'dalam', 'akan', 'tersebut', 'kepada', 'juga', 'kalau', 'secara', 'hanya', \n",
    "        'karena', 'antara', 'ada', 'saat', 'bahwa', 'hingga', 'oleh', 'ia', 'menjadi', 'ketika', 'salah', 'maka', 'selama', 'lagi', \n",
    "        'sedang', 'sekitar', 'bahkan', 'tanpa', 'lebih', 'tentang', 'beberapa', 'selain', 'misalnya', 'cukup', 'begitu', 'baik', \n",
    "        'sekali', 'selalu', 'bukan', 'pernah', 'setelah', 'seperti', 'banyak', 'harus', 'atau', 'benar', 'masih', 'semua', 'lebih', \n",
    "        'maka', 'belum', 'bisa', 'sebab', 'yang', 'itu', 'hanya', 'walau', 'dari', 'oleh', 'seperti', 'mengapa', 'dimana', 'setiap', \n",
    "        'bagaimana', 'jadi', 'paling', 'tetapi', 'apakah', 'sampai', 'kalau', 'kembali', 'kemudian', 'maupun', 'seluruh', 'demikian',\n",
    "        'kepada', 'diri', 'antar', 'atas', 'dengan', 'terhadap', 'sering', 'kali', 'maupun', 'mereka', 'ia', 'seperti', 'mengapa', \n",
    "        'serta', 'bahwa', 'memang', 'oleh', 'antara', 'seolah', 'lain', 'padahal', 'terhadap', 'demi', 'demikian', 'menurut', 'tanpa', \n",
    "        'agar', 'atau', 'walaupun', 'sehingga', 'dapat', 'yakni', 'kalau', 'tetapi', 'walaupun', 'dimana', 'terhadap', 'sesuai', \n",
    "        'begitu', 'namun', 'seperti', 'terutama', 'sebab', 'melalui', 'demi', 'hal', 'karena', 'bahwa', 'untuk', 'bila', 'berikut', \n",
    "        'antara', 'namun', 'yakni', 'sementara', 'ketika', 'terhadap', 'mereka', 'setiap', 'bahwa', 'tersebut', 'dimana', 'oleh',\n",
    "        'baik', 'bahkan', 'dengan', 'misalnya', 'sebab', 'mengenai', 'sedangkan', 'demikian', 'ketika', 'tersebut', 'sebagaimana', \n",
    "        'tetapi', 'karena', 'hal', 'demikian', 'jika', 'dalam', 'mengapa', 'tanpa', 'sesuatu', 'tetapi', 'jadi', 'lagi', 'atas', \n",
    "        'daripada', 'seperti', 'dimana', 'kepada', 'seolah', 'bahwa', 'hanya', 'yang', 'sebab', 'dimana', 'ia', 'maupun', 'terhadap'\n",
    "    ])\n",
    "\n",
    "    \n",
    "    # Ambil daftar stopwords bahasa Inggris dari NLTK\n",
    "    listStopwords1 = set(stopwords.words('english'))\n",
    "    \n",
    "    # Gabungkan stopwords bahasa inggris ke dalam set stopwords bahasa indonesia\n",
    "    listStopwords.update(listStopwords1)\n",
    "    # Tambahkan beberapa stopwords tambahan yang sering muncul dalam teks\n",
    "    listStopwords.update(['iya','yaa','gak','nya','na','sih','ku',\"di\",\"ga\",\"ya\",\"gaa\",\"loh\",\"kah\",\"woi\",\"woii\",\"woy\"])\n",
    "    \n",
    "    # Buat lis kosong\n",
    "    filtered = []\n",
    "    \n",
    "    # Memerikan setiap kata dalam teks\n",
    "    for txt in text:\n",
    "        # jika tidak ada dalam list stopwords, maka tambahkan ke list filtered\n",
    "        if txt not in listStopwords:\n",
    "            filtered.append(txt)\n",
    "        \n",
    "    text = filtered\n",
    "    return text"
   ]
  },
  {
   "cell_type": "markdown",
   "metadata": {},
   "source": [
    "## Steaming Text"
   ]
  },
  {
   "cell_type": "markdown",
   "metadata": {},
   "source": [
    "Mengurangi kata ke bentuk dasarnya yang menghilangkan imbuhan awalan dan akhiran atau ke akar kata"
   ]
  },
  {
   "cell_type": "code",
   "execution_count": 19,
   "metadata": {},
   "outputs": [],
   "source": [
    "def stemmingText(text):\n",
    "    # Membuat objek stemmer\n",
    "    factory = StemmerFactory()\n",
    "    stemmer = factory.create_stemmer()\n",
    "    \n",
    "    # Memecah teks menjadi daftar kata\n",
    "    words = text.split()\n",
    "    \n",
    "    # Menerapkan stemming pada setiap kata dalam daftar\n",
    "    stemmed_words = [stemmer.stem(word) for word in words]\n",
    "    \n",
    "    # Menggabungkan kata-kata yang telah distem\n",
    "    stemmed_text = ' '.join(stemmed_words)\n",
    "    \n",
    "    return stemmed_text"
   ]
  },
  {
   "cell_type": "markdown",
   "metadata": {},
   "source": [
    "## Mengubah daftar kata menjadi kalimat"
   ]
  },
  {
   "cell_type": "code",
   "execution_count": 20,
   "metadata": {},
   "outputs": [],
   "source": [
    "def toSentence(list_words):\n",
    "    sentence = ' '.join(word for word in list_words)\n",
    "    return sentence"
   ]
  },
  {
   "cell_type": "markdown",
   "metadata": {},
   "source": [
    "## Penghapusan slang words"
   ]
  },
  {
   "cell_type": "markdown",
   "metadata": {},
   "source": [
    "Misalnya, \"abis\" merupakan singkatan dari \"habis\", \"wtb\" merupakan singkatan dari \"beli\", dan seterusnya"
   ]
  },
  {
   "cell_type": "code",
   "execution_count": 21,
   "metadata": {},
   "outputs": [],
   "source": [
    "slangwords = {\"@\": \"di\", \"abis\": \"habis\", \"wtb\": \"beli\", \"masi\": \"masih\", \"wts\": \"jual\", \"wtt\": \"tukar\", \"bgt\": \"banget\", \"maks\": \"maksimal\", \"plisss\": \"tolong\", \"bgttt\": \"banget\", \"indo\": \"indonesia\", \"bgtt\": \"banget\", \"ad\": \"ada\", \"rv\": \"redvelvet\", \"plis\": \"tolong\", \"pls\": \"tolong\", \"cr\": \"sumber\", \"cod\": \"bayar ditempat\", \"adlh\": \"adalah\", \"afaik\": \"as far as i know\", \"ahaha\": \"haha\", \"aj\": \"saja\", \"ajep-ajep\": \"dunia gemerlap\", \"ak\": \"saya\", \"akika\": \"aku\", \"akkoh\": \"aku\", \"akuwh\": \"aku\", \"alay\": \"norak\", \"alow\": \"halo\", \"ambilin\": \"ambilkan\", \"ancur\": \"hancur\", \"anjrit\": \"anjing\", \"anter\": \"antar\", \"ap2\": \"apa-apa\", \"apasih\": \"apa sih\", \"apes\": \"sial\", \"aps\": \"apa\", \"aq\": \"saya\", \"aquwh\": \"aku\", \"asbun\": \"asal bunyi\", \"aseekk\": \"asyik\", \"asekk\": \"asyik\", \"asem\": \"asam\", \"aspal\": \"asli tetapi palsu\", \"astul\": \"asal tulis\", \"ato\": \"atau\", \"au ah\": \"tidak mau tahu\", \"awak\": \"saya\", \"ay\": \"sayang\", \"ayank\": \"sayang\", \"b4\": \"sebelum\", \"bakalan\": \"akan\", \"bandes\": \"bantuan desa\", \"bangedh\": \"banget\", \"banpol\": \"bantuan polisi\", \"banpur\": \"bantuan tempur\", \"basbang\": \"basi\", \"bcanda\": \"bercanda\", \"bdg\": \"bandung\", \"begajulan\": \"nakal\", \"beliin\": \"belikan\", \"bencong\": \"banci\", \"bentar\": \"sebentar\", \"ber3\": \"bertiga\", \"beresin\": \"membereskan\", \"bete\": \"bosan\", \"beud\": \"banget\", \"bg\": \"abang\", \"bgmn\": \"bagaimana\", \"bgt\": \"banget\", \"bijimane\": \"bagaimana\", \"bintal\": \"bimbingan mental\", \"bkl\": \"akan\", \"bknnya\": \"bukannya\", \"blegug\": \"bodoh\", \"blh\": \"boleh\", \"bln\": \"bulan\", \"blum\": \"belum\", \"bnci\": \"benci\", \"bnran\": \"yang benar\", \"bodor\": \"lucu\", \"bokap\": \"ayah\", \"boker\": \"buang air besar\", \"bokis\": \"bohong\", \"boljug\": \"boleh juga\", \"bonek\": \"bocah nekat\", \"boyeh\": \"boleh\", \"br\": \"baru\", \"brg\": \"bareng\", \"bro\": \"saudara laki-laki\", \"bru\": \"baru\", \"bs\": \"bisa\", \"bsen\": \"bosan\", \"bt\": \"buat\", \"btw\": \"ngomong-ngomong\", \"buaya\": \"tidak setia\", \"bubbu\": \"tidur\", \"bubu\": \"tidur\", \"bumil\": \"ibu hamil\", \"bw\": \"bawa\", \"bwt\": \"buat\", \"byk\": \"banyak\", \"byrin\": \"bayarkan\", \"cabal\": \"sabar\", \"cadas\": \"keren\", \"calo\": \"makelar\", \"can\": \"belum\", \"capcus\": \"pergi\", \"caper\": \"cari perhatian\", \"ce\": \"cewek\", \"cekal\": \"cegah tangkal\", \"cemen\": \"penakut\", \"cengengesan\": \"tertawa\", \"cepet\": \"cepat\", \"cew\": \"cewek\", \"chuyunk\": \"sayang\", \"cimeng\": \"ganja\", \"cipika cipiki\": \"cium pipi kanan cium pipi kiri\", \"ciyh\": \"sih\", \"ckepp\": \"cakep\", \"ckp\": \"cakep\", \"cmiiw\": \"correct me if i'm wrong\", \"cmpur\": \"campur\", \"cong\": \"banci\", \"conlok\": \"cinta lokasi\", \"cowwyy\": \"maaf\", \"cp\": \"siapa\", \"cpe\": \"capek\", \"cppe\": \"capek\", \"cucok\": \"cocok\", \"cuex\": \"cuek\", \"cumi\": \"Cuma miscall\", \"cups\": \"culun\", \"curanmor\": \"pencurian kendaraan bermotor\", \"curcol\": \"curahan hati colongan\", \"cwek\": \"cewek\", \"cyin\": \"cinta\", \"d\": \"di\", \"dah\": \"deh\", \"dapet\": \"dapat\", \"de\": \"adik\", \"dek\": \"adik\", \"demen\": \"suka\", \"deyh\": \"deh\", \"dgn\": \"dengan\", \"diancurin\": \"dihancurkan\", \"dimaafin\": \"dimaafkan\", \"dimintak\": \"diminta\", \"disono\": \"di sana\", \"dket\": \"dekat\", \"dkk\": \"dan kawan-kawan\", \"dll\": \"dan lain-lain\", \"dlu\": \"dulu\", \"dngn\": \"dengan\", \"dodol\": \"bodoh\", \"doku\": \"uang\", \"dongs\": \"dong\", \"dpt\": \"dapat\", \"dri\": \"dari\", \"drmn\": \"darimana\", \"drtd\": \"dari tadi\", \"dst\": \"dan seterusnya\", \"dtg\": \"datang\", \"duh\": \"aduh\", \"duren\": \"durian\", \"ed\": \"edisi\", \"egp\": \"emang gue pikirin\", \"eke\": \"aku\", \"elu\": \"kamu\", \"emangnya\": \"memangnya\", \"emng\": \"memang\", \"endak\": \"tidak\", \"enggak\": \"tidak\", \"envy\": \"iri\", \"ex\": \"mantan\", \"fax\": \"facsimile\", \"fifo\": \"first in first out\", \"folbek\": \"follow back\", \"fyi\": \"sebagai informasi\", \"gaada\": \"tidak ada uang\", \"gag\": \"tidak\", \"gaje\": \"tidak jelas\", \"gak papa\": \"tidak apa-apa\", \"gan\": \"juragan\", \"gaptek\": \"gagap teknologi\", \"gatek\": \"gagap teknologi\", \"gawe\": \"kerja\", \"gbs\": \"tidak bisa\", \"gebetan\": \"orang yang disuka\", \"geje\": \"tidak jelas\", \"gepeng\": \"gelandangan dan pengemis\", \"ghiy\": \"lagi\", \"gile\": \"gila\", \"gimana\": \"bagaimana\", \"gino\": \"gigi nongol\", \"githu\": \"gitu\", \"gj\": \"tidak jelas\", \"gmana\": \"bagaimana\", \"gn\": \"begini\", \"goblok\": \"bodoh\", \"golput\": \"golongan putih\", \"gowes\": \"mengayuh sepeda\", \"gpny\": \"tidak punya\", \"gr\": \"gede rasa\", \"gretongan\": \"gratisan\", \"gtau\": \"tidak tahu\", \"gua\": \"saya\", \"guoblok\": \"goblok\", \"gw\": \"saya\", \"ha\": \"tertawa\", \"haha\": \"tertawa\", \"hallow\": \"halo\", \"hankam\": \"pertahanan dan keamanan\", \"hehe\": \"he\", \"helo\": \"halo\", \"hey\": \"hai\", \"hlm\": \"halaman\", \"hny\": \"hanya\", \"hoax\": \"isu bohong\", \"hr\": \"hari\", \"hrus\": \"harus\", \"hubdar\": \"perhubungan darat\", \"huff\": \"mengeluh\", \"hum\": \"rumah\", \"humz\": \"rumah\", \"ilang\": \"hilang\", \"ilfil\": \"tidak suka\", \"imho\": \"in my humble opinion\", \"imoetz\": \"imut\", \"item\": \"hitam\", \"itungan\": \"hitungan\", \"iye\": \"iya\", \"ja\": \"saja\", \"jadiin\": \"jadi\", \"jaim\": \"jaga image\", \"jayus\": \"tidak lucu\", \"jdi\": \"jadi\", \"jem\": \"jam\", \"jga\": \"juga\", \"jgnkan\": \"jangankan\", \"jir\": \"anjing\", \"jln\": \"jalan\", \"jomblo\": \"tidak punya pacar\", \"jubir\": \"juru bicara\", \"jutek\": \"galak\", \"k\": \"ke\", \"kab\": \"kabupaten\", \"kabor\": \"kabur\", \"kacrut\": \"kacau\", \"kadiv\": \"kepala divisi\", \"kagak\": \"tidak\", \"kalo\": \"kalau\", \"kampret\": \"sialan\", \"kamtibmas\": \"keamanan dan ketertiban masyarakat\", \"kamuwh\": \"kamu\", \"kanwil\": \"kantor wilayah\", \"karna\": \"karena\", \"kasubbag\": \"kepala subbagian\", \"katrok\": \"kampungan\", \"kayanya\": \"kayaknya\", \"kbr\": \"kabar\", \"kdu\": \"harus\", \"kec\": \"kecamatan\", \"kejurnas\": \"kejuaraan nasional\", \"kekeuh\": \"keras kepala\", \"kel\": \"kelurahan\", \"kemaren\": \"kemarin\", \"kepengen\": \"mau\", \"kepingin\": \"mau\", \"kepsek\": \"kepala sekolah\", \"kesbang\": \"kesatuan bangsa\", \"kesra\": \"kesejahteraan rakyat\", \"ketrima\": \"diterima\", \"kgiatan\": \"kegiatan\", \"kibul\": \"bohong\", \"kimpoi\": \"kawin\", \"kl\": \"kalau\", \"klianz\": \"kalian\", \"kloter\": \"kelompok terbang\", \"klw\": \"kalau\", \"km\": \"kamu\", \"kmps\": \"kampus\", \"kmrn\": \"kemarin\", \"knal\": \"kenal\", \"knp\": \"kenapa\", \"kodya\": \"kota madya\", \"komdis\": \"komisi disiplin\", \"komsov\": \"komunis sovyet\", \"kongkow\": \"kumpul bareng teman-teman\", \"kopdar\": \"kopi darat\", \"korup\": \"korupsi\", \"kpn\": \"kapan\", \"krenz\": \"keren\", \"krm\": \"kirim\", \"kt\": \"kita\", \"ktmu\": \"ketemu\", \"ktr\": \"kantor\", \"kuper\": \"kurang pergaulan\", \"kw\": \"imitasi\", \"kyk\": \"seperti\", \"la\": \"lah\", \"lam\": \"salam\", \"lamp\": \"lampiran\", \"lanud\": \"landasan udara\", \"latgab\": \"latihan gabungan\", \"lebay\": \"berlebihan\", \"leh\": \"boleh\", \"lelet\": \"lambat\", \"lemot\": \"lambat\", \"lgi\": \"lagi\", \"lgsg\": \"langsung\", \"liat\": \"lihat\", \"litbang\": \"penelitian dan pengembangan\", \"lmyn\": \"lumayan\", \"lo\": \"kamu\", \"loe\": \"kamu\", \"lola\": \"lambat berfikir\", \"louph\": \"cinta\", \"low\": \"kalau\", \"lp\": \"lupa\", \"luber\": \"langsung, umum, bebas, dan rahasia\", \"luchuw\": \"lucu\", \"lum\": \"belum\", \"luthu\": \"lucu\", \"lwn\": \"lawan\", \"maacih\": \"terima kasih\", \"mabal\": \"bolos\", \"macem\": \"macam\", \"macih\": \"masih\", \"maem\": \"makan\", \"magabut\": \"makan gaji buta\", \"maho\": \"homo\", \"mak jang\": \"kaget\", \"maksain\": \"memaksa\", \"malem\": \"malam\", \"mam\": \"makan\", \"maneh\": \"kamu\", \"maniez\": \"manis\", \"mao\": \"mau\", \"masukin\": \"masukkan\", \"melu\": \"ikut\", \"mepet\": \"dekat sekali\", \"mgu\": \"minggu\", \"migas\": \"minyak dan gas bumi\", \"mikol\": \"minuman beralkohol\", \"miras\": \"minuman keras\", \"mlah\": \"malah\", \"mngkn\": \"mungkin\", \"mo\": \"mau\", \"mokad\": \"mati\", \"moso\": \"masa\", \"mpe\": \"sampai\", \"msk\": \"masuk\", \"mslh\": \"masalah\", \"mt\": \"makan teman\", \"mubes\": \"musyawarah besar\", \"mulu\": \"melulu\", \"mumpung\": \"selagi\", \"munas\": \"musyawarah nasional\", \"muntaber\": \"muntah dan berak\", \"musti\": \"mesti\", \"muupz\": \"maaf\", \"mw\": \"now watching\", \"n\": \"dan\", \"nanam\": \"menanam\", \"nanya\": \"bertanya\", \"napa\": \"kenapa\", \"napi\": \"narapidana\", \"napza\": \"narkotika, alkohol, psikotropika, dan zat adiktif \", \"narkoba\": \"narkotika, psikotropika, dan obat terlarang\", \"nasgor\": \"nasi goreng\", \"nda\": \"tidak\", \"ndiri\": \"sendiri\", \"ne\": \"ini\", \"nekolin\": \"neokolonialisme\", \"nembak\": \"menyatakan cinta\", \"ngabuburit\": \"menunggu berbuka puasa\", \"ngaku\": \"mengaku\", \"ngambil\": \"mengambil\", \"nganggur\": \"tidak punya pekerjaan\", \"ngapah\": \"kenapa\", \"ngaret\": \"terlambat\", \"ngasih\": \"memberikan\", \"ngebandel\": \"berbuat bandel\", \"ngegosip\": \"bergosip\", \"ngeklaim\": \"mengklaim\", \"ngeksis\": \"menjadi eksis\", \"ngeles\": \"berkilah\", \"ngelidur\": \"menggigau\", \"ngerampok\": \"merampok\", \"ngga\": \"tidak\", \"ngibul\": \"berbohong\", \"ngiler\": \"mau\", \"ngiri\": \"iri\", \"ngisiin\": \"mengisikan\", \"ngmng\": \"bicara\", \"ngomong\": \"bicara\", \"ngubek2\": \"mencari-cari\", \"ngurus\": \"mengurus\", \"nie\": \"ini\", \"nih\": \"ini\", \"niyh\": \"nih\", \"nmr\": \"nomor\", \"nntn\": \"nonton\", \"nobar\": \"nonton bareng\", \"np\": \"now playing\", \"ntar\": \"nanti\", \"ntn\": \"nonton\", \"numpuk\": \"bertumpuk\", \"nutupin\": \"menutupi\", \"nyari\": \"mencari\", \"nyekar\": \"menyekar\", \"nyicil\": \"mencicil\", \"nyoblos\": \"mencoblos\", \"nyokap\": \"ibu\", \"ogah\": \"tidak mau\", \"ol\": \"online\", \"ongkir\": \"ongkos kirim\", \"oot\": \"out of topic\", \"org2\": \"orang-orang\", \"ortu\": \"orang tua\", \"otda\": \"otonomi daerah\", \"otw\": \"on the way, sedang di jalan\", \"pacal\": \"pacar\", \"pake\": \"pakai\", \"pala\": \"kepala\", \"pansus\": \"panitia khusus\", \"parpol\": \"partai politik\", \"pasutri\": \"pasangan suami istri\", \"pd\": \"pada\", \"pede\": \"percaya diri\", \"pelatnas\": \"pemusatan latihan nasional\", \"pemda\": \"pemerintah daerah\", \"pemkot\": \"pemerintah kota\", \"pemred\": \"pemimpin redaksi\", \"penjas\": \"pendidikan jasmani\", \"perda\": \"peraturan daerah\", \"perhatiin\": \"perhatikan\", \"pesenan\": \"pesanan\", \"pgang\": \"pegang\", \"pi\": \"tapi\", \"pilkada\": \"pemilihan kepala daerah\", \"pisan\": \"sangat\", \"pk\": \"penjahat kelamin\", \"plg\": \"paling\", \"pmrnth\": \"pemerintah\", \"polantas\": \"polisi lalu lintas\", \"ponpes\": \"pondok pesantren\", \"pp\": \"pulang pergi\", \"prg\": \"pergi\", \"prnh\": \"pernah\", \"psen\": \"pesan\", \"pst\": \"pasti\", \"pswt\": \"pesawat\", \"pw\": \"posisi nyaman\", \"qmu\": \"kamu\", \"rakor\": \"rapat koordinasi\", \"ranmor\": \"kendaraan bermotor\", \"re\": \"reply\", \"ref\": \"referensi\", \"rehab\": \"rehabilitasi\", \"rempong\": \"sulit\", \"repp\": \"balas\", \"restik\": \"reserse narkotika\", \"rhs\": \"rahasia\", \"rmh\": \"rumah\", \"ru\": \"baru\", \"ruko\": \"rumah toko\", \"rusunawa\": \"rumah susun sewa\", \"ruz\": \"terus\", \"saia\": \"saya\", \"salting\": \"salah tingkah\", \"sampe\": \"sampai\", \"samsek\": \"sama sekali\", \"sapose\": \"siapa\", \"satpam\": \"satuan pengamanan\", \"sbb\": \"sebagai berikut\", \"sbh\": \"sebuah\", \"sbnrny\": \"sebenarnya\", \"scr\": \"secara\", \"sdgkn\": \"sedangkan\", \"sdkt\": \"sedikit\", \"se7\": \"setuju\", \"sebelas dua belas\": \"mirip\", \"sembako\": \"sembilan bahan pokok\", \"sempet\": \"sempat\", \"sendratari\": \"seni drama tari\", \"sgt\": \"sangat\", \"shg\": \"sehingga\", \"siech\": \"sih\", \"sikon\": \"situasi dan kondisi\", \"sinetron\": \"sinema elektronik\", \"siramin\": \"siramkan\", \"sj\": \"saja\", \"skalian\": \"sekalian\", \"sklh\": \"sekolah\", \"skt\": \"sakit\", \"slesai\": \"selesai\", \"sll\": \"selalu\", \"slma\": \"selama\", \"slsai\": \"selesai\", \"smpt\": \"sempat\", \"smw\": \"semua\", \"sndiri\": \"sendiri\", \"soljum\": \"sholat jumat\", \"songong\": \"sombong\", \"sory\": \"maaf\", \"sosek\": \"sosial-ekonomi\", \"sotoy\": \"sok tahu\", \"spa\": \"siapa\", \"sppa\": \"siapa\", \"spt\": \"seperti\", \"srtfkt\": \"sertifikat\", \"stiap\": \"setiap\", \"stlh\": \"setelah\", \"suk\": \"masuk\", \"sumpek\": \"sempit\", \"syg\": \"sayang\", \"t4\": \"tempat\", \"tajir\": \"kaya\", \"tau\": \"tahu\", \"taw\": \"tahu\", \"td\": \"tadi\", \"tdk\": \"tidak\", \"teh\": \"kakak perempuan\", \"telat\": \"terlambat\", \"telmi\": \"telat berpikir\", \"temen\": \"teman\", \"tengil\": \"menyebalkan\", \"tepar\": \"terkapar\", \"tggu\": \"tunggu\", \"tgu\": \"tunggu\", \"thankz\": \"terima kasih\", \"thn\": \"tahun\", \"tilang\": \"bukti pelanggaran\", \"tipiwan\": \"TvOne\", \"tks\": \"terima kasih\", \"tlp\": \"telepon\", \"tls\": \"tulis\", \"tmbah\": \"tambah\", \"tmen2\": \"teman-teman\", \"tmpah\": \"tumpah\", \"tmpt\": \"tempat\", \"tngu\": \"tunggu\", \"tnyta\": \"ternyata\", \"tokai\": \"tai\", \"toserba\": \"toko serba ada\", \"tpi\": \"tapi\", \"trdhulu\": \"terdahulu\", \"trima\": \"terima kasih\", \"trm\": \"terima\", \"trs\": \"terus\", \"trutama\": \"terutama\", \"ts\": \"penulis\", \"tst\": \"tahu sama tahu\", \"ttg\": \"tentang\", \"tuch\": \"tuh\", \"tuir\": \"tua\", \"tw\": \"tahu\", \"u\": \"kamu\", \"ud\": \"sudah\", \"udah\": \"sudah\", \"ujg\": \"ujung\", \"ul\": \"ulangan\", \"unyu\": \"lucu\", \"uplot\": \"unggah\", \"urang\": \"saya\", \"usah\": \"perlu\", \"utk\": \"untuk\", \"valas\": \"valuta asing\", \"w/\": \"dengan\", \"wadir\": \"wakil direktur\", \"wamil\": \"wajib militer\", \"warkop\": \"warung kopi\", \"warteg\": \"warung tegal\", \"wat\": \"buat\", \"wkt\": \"waktu\", \"wtf\": \"what the fuck\", \"xixixi\": \"tertawa\", \"ya\": \"iya\", \"yap\": \"iya\", \"yaudah\": \"ya sudah\", \"yawdah\": \"ya sudah\", \"yg\": \"yang\", \"yl\": \"yang lain\", \"yo\": \"iya\", \"yowes\": \"ya sudah\", \"yup\": \"iya\", \"7an\": \"tujuan\", \"ababil\": \"abg labil\", \"acc\": \"accord\", \"adlah\": \"adalah\", \"adoh\": \"aduh\", \"aha\": \"tertawa\", \"aing\": \"saya\", \"aja\": \"saja\", \"ajj\": \"saja\", \"aka\": \"dikenal juga sebagai\", \"akko\": \"aku\", \"akku\": \"aku\", \"akyu\": \"aku\", \"aljasa\": \"asal jadi saja\", \"ama\": \"sama\", \"ambl\": \"ambil\", \"anjir\": \"anjing\", \"ank\": \"anak\", \"ap\": \"apa\", \"apaan\": \"apa\", \"ape\": \"apa\", \"aplot\": \"unggah\", \"apva\": \"apa\", \"aqu\": \"aku\", \"asap\": \"sesegera mungkin\", \"aseek\": \"asyik\", \"asek\": \"asyik\", \"aseknya\": \"asyiknya\", \"asoy\": \"asyik\", \"astrojim\": \"astagfirullahaladzim\", \"ath\": \"kalau begitu\", \"atuh\": \"kalau begitu\", \"ava\": \"avatar\", \"aws\": \"awas\", \"ayang\": \"sayang\", \"ayok\": \"ayo\", \"bacot\": \"banyak bicara\", \"bales\": \"balas\", \"bangdes\": \"pembangunan desa\", \"bangkotan\": \"tua\", \"banpres\": \"bantuan presiden\", \"bansarkas\": \"bantuan sarana kesehatan\", \"bazis\": \"badan amal, zakat, infak, dan sedekah\", \"bcoz\": \"karena\", \"beb\": \"sayang\", \"bejibun\": \"banyak\", \"belom\": \"belum\", \"bener\": \"benar\", \"ber2\": \"berdua\", \"berdikari\": \"berdiri di atas kaki sendiri\", \"bet\": \"banget\", \"beti\": \"beda tipis\", \"beut\": \"banget\", \"bgd\": \"banget\", \"bgs\": \"bagus\", \"bhubu\": \"tidur\", \"bimbuluh\": \"bimbingan dan penyuluhan\", \"bisi\": \"kalau-kalau\", \"bkn\": \"bukan\", \"bl\": \"beli\", \"blg\": \"bilang\", \"blm\": \"belum\", \"bls\": \"balas\", \"bnchi\": \"benci\", \"bngung\": \"bingung\", \"bnyk\": \"banyak\", \"bohay\": \"badan aduhai\", \"bokep\": \"porno\", \"bokin\": \"pacar\", \"bole\": \"boleh\", \"bolot\": \"bodoh\", \"bonyok\": \"ayah ibu\", \"bpk\": \"bapak\", \"brb\": \"segera kembali\", \"brngkt\": \"berangkat\", \"brp\": \"berapa\", \"brur\": \"saudara laki-laki\", \"bsa\": \"bisa\", \"bsk\": \"besok\", \"bu_bu\": \"tidur\", \"bubarin\": \"bubarkan\", \"buber\": \"buka bersama\", \"bujubune\": \"luar biasa\", \"buser\": \"buru sergap\", \"bwhn\": \"bawahan\", \"byar\": \"bayar\", \"byr\": \"bayar\", \"c8\": \"chat\", \"cabut\": \"pergi\", \"caem\": \"cakep\", \"cama-cama\": \"sama-sama\", \"cangcut\": \"celana dalam\", \"cape\": \"capek\", \"caur\": \"jelek\", \"cekak\": \"tidak ada uang\", \"cekidot\": \"coba lihat\", \"cemplungin\": \"cemplungkan\", \"ceper\": \"pendek\", \"ceu\": \"kakak perempuan\", \"cewe\": \"cewek\", \"cibuk\": \"sibuk\", \"cin\": \"cinta\", \"ciye\": \"cie\", \"ckck\": \"ck\", \"clbk\": \"cinta lama bersemi kembali\", \"cmpr\": \"campur\", \"cnenk\": \"senang\", \"congor\": \"mulut\", \"cow\": \"cowok\", \"coz\": \"karena\", \"cpa\": \"siapa\", \"gokil\": \"gila\", \"gombal\": \"suka merayu\", \"gpl\": \"tidak pakai lama\", \"gpp\": \"tidak apa-apa\", \"gretong\": \"gratis\", \"gt\": \"begitu\", \"gtw\": \"tidak tahu\", \"gue\": \"saya\", \"guys\": \"teman-teman\", \"gws\": \"cepat sembuh\", \"haghaghag\": \"tertawa\", \"hakhak\": \"tertawa\", \"handak\": \"bahan peledak\", \"hansip\": \"pertahanan sipil\", \"hellow\": \"halo\", \"helow\": \"halo\", \"hi\": \"hai\", \"hlng\": \"hilang\", \"hnya\": \"hanya\", \"houm\": \"rumah\", \"hrs\": \"harus\", \"hubad\": \"hubungan angkatan darat\", \"hubla\": \"perhubungan laut\", \"huft\": \"mengeluh\", \"humas\": \"hubungan masyarakat\", \"idk\": \"saya tidak tahu\", \"ilfeel\": \"tidak suka\", \"imba\": \"jago sekali\", \"imoet\": \"imut\", \"info\": \"informasi\", \"itung\": \"hitung\", \"isengin\": \"bercanda\", \"iyala\": \"iya lah\", \"iyo\": \"iya\", \"jablay\": \"jarang dibelai\", \"jadul\": \"jaman dulu\", \"jancuk\": \"anjing\", \"jd\": \"jadi\", \"jdikan\": \"jadikan\", \"jg\": \"juga\", \"jgn\": \"jangan\", \"jijay\": \"jijik\", \"jkt\": \"jakarta\", \"jnj\": \"janji\", \"jth\": \"jatuh\", \"jurdil\": \"jujur adil\", \"jwb\": \"jawab\", \"ka\": \"kakak\", \"kabag\": \"kepala bagian\", \"kacian\": \"kasihan\", \"kadit\": \"kepala direktorat\", \"kaga\": \"tidak\", \"kaka\": \"kakak\", \"kamtib\": \"keamanan dan ketertiban\", \"kamuh\": \"kamu\", \"kamyu\": \"kamu\", \"kapt\": \"kapten\", \"kasat\": \"kepala satuan\", \"kasubbid\": \"kepala subbidang\", \"kau\": \"kamu\", \"kbar\": \"kabar\", \"kcian\": \"kasihan\", \"keburu\": \"terlanjur\", \"kedubes\": \"kedutaan besar\", \"kek\": \"seperti\", \"keknya\": \"kayaknya\", \"keliatan\": \"kelihatan\", \"keneh\": \"masih\", \"kepikiran\": \"terpikirkan\", \"kepo\": \"mau tahu urusan orang\", \"kere\": \"tidak punya uang\", \"kesian\": \"kasihan\", \"ketauan\": \"ketahuan\", \"keukeuh\": \"keras kepala\", \"khan\": \"kan\", \"kibus\": \"kaki busuk\", \"kk\": \"kakak\", \"klian\": \"kalian\", \"klo\": \"kalau\", \"kluarga\": \"keluarga\", \"klwrga\": \"keluarga\", \"kmari\": \"kemari\", \"kmpus\": \"kampus\", \"kn\": \"kan\", \"knl\": \"kenal\", \"knpa\": \"kenapa\", \"kog\": \"kok\", \"kompi\": \"komputer\", \"komtiong\": \"komunis Tiongkok\", \"konjen\": \"konsulat jenderal\", \"koq\": \"kok\", \"kpd\": \"kepada\", \"kptsan\": \"keputusan\", \"krik\": \"garing\", \"krn\": \"karena\", \"ktauan\": \"ketahuan\", \"ktny\": \"katanya\", \"kudu\": \"harus\", \"kuq\": \"kok\", \"ky\": \"seperti\", \"kykny\": \"kayanya\", \"laka\": \"kecelakaan\", \"lambreta\": \"lambat\", \"lansia\": \"lanjut usia\", \"lapas\": \"lembaga pemasyarakatan\", \"lbur\": \"libur\", \"lekong\": \"laki-laki\", \"lg\": \"lagi\", \"lgkp\": \"lengkap\", \"lht\": \"lihat\", \"linmas\": \"perlindungan masyarakat\", \"lmyan\": \"lumayan\", \"lngkp\": \"lengkap\", \"loch\": \"loh\", \"lol\": \"tertawa\", \"lom\": \"belum\", \"loupz\": \"cinta\", \"lowh\": \"kamu\", \"lu\": \"kamu\", \"luchu\": \"lucu\", \"luff\": \"cinta\", \"luph\": \"cinta\", \"lw\": \"kamu\", \"lwt\": \"lewat\", \"maaciw\": \"terima kasih\", \"mabes\": \"markas besar\", \"macem-macem\": \"macam-macam\", \"madesu\": \"masa depan suram\", \"maen\": \"main\", \"mahatma\": \"maju sehat bersama\", \"mak\": \"ibu\", \"makasih\": \"terima kasih\", \"malah\": \"bahkan\", \"malu2in\": \"memalukan\", \"mamz\": \"makan\", \"manies\": \"manis\", \"mantep\": \"mantap\", \"markus\": \"makelar kasus\", \"mba\": \"mbak\", \"mending\": \"lebih baik\", \"mgkn\": \"mungkin\", \"mhn\": \"mohon\", \"miker\": \"minuman keras\", \"milis\": \"mailing list\", \"mksd\": \"maksud\", \"mls\": \"malas\", \"mnt\": \"minta\", \"moge\": \"motor gede\", \"mokat\": \"mati\", \"mosok\": \"masa\", \"msh\": \"masih\", \"mskpn\": \"meskipun\", \"msng2\": \"masing-masing\", \"muahal\": \"mahal\", \"muker\": \"musyawarah kerja\", \"mumet\": \"pusing\", \"muna\": \"munafik\", \"munaslub\": \"musyawarah nasional luar biasa\", \"musda\": \"musyawarah daerah\", \"muup\": \"maaf\", \"muuv\": \"maaf\", \"nal\": \"kenal\", \"nangis\": \"menangis\", \"naon\": \"apa\", \"napol\": \"narapidana politik\", \"naq\": \"anak\", \"narsis\": \"bangga pada diri sendiri\", \"nax\": \"anak\", \"ndak\": \"tidak\", \"ndut\": \"gendut\", \"nekolim\": \"neokolonialisme\", \"nelfon\": \"menelepon\", \"ngabis2in\": \"menghabiskan\", \"ngakak\": \"tertawa\", \"ngambek\": \"marah\", \"ngampus\": \"pergi ke kampus\", \"ngantri\": \"mengantri\", \"ngapain\": \"sedang apa\", \"ngaruh\": \"berpengaruh\", \"ngawur\": \"berbicara sembarangan\", \"ngeceng\": \"kumpul bareng-bareng\", \"ngeh\": \"sadar\", \"ngekos\": \"tinggal di kos\", \"ngelamar\": \"melamar\", \"ngeliat\": \"melihat\", \"ngemeng\": \"bicara terus-terusan\", \"ngerti\": \"mengerti\", \"nggak\": \"tidak\", \"ngikut\": \"ikut\", \"nginep\": \"menginap\", \"ngisi\": \"mengisi\", \"ngmg\": \"bicara\", \"ngocol\": \"lucu\", \"ngomongin\": \"membicarakan\", \"ngumpul\": \"berkumpul\", \"ni\": \"ini\", \"nyasar\": \"tersesat\", \"nyariin\": \"mencari\", \"nyiapin\": \"mempersiapkan\", \"nyiram\": \"menyiram\", \"nyok\": \"ayo\", \"o/\": \"oleh\", \"ok\": \"ok\", \"priksa\": \"periksa\", \"pro\": \"profesional\", \"psn\": \"pesan\", \"psti\": \"pasti\", \"puanas\": \"panas\", \"qmo\": \"kamu\", \"qt\": \"kita\", \"rame\": \"ramai\", \"raskin\": \"rakyat miskin\", \"red\": \"redaksi\", \"reg\": \"register\", \"rejeki\": \"rezeki\", \"renstra\": \"rencana strategis\", \"reskrim\": \"reserse kriminal\", \"sni\": \"sini\", \"somse\": \"sombong sekali\", \"sorry\": \"maaf\", \"sosbud\": \"sosial-budaya\", \"sospol\": \"sosial-politik\", \"sowry\": \"maaf\", \"spd\": \"sepeda\", \"sprti\": \"seperti\", \"spy\": \"supaya\", \"stelah\": \"setelah\", \"subbag\": \"subbagian\", \"sumbangin\": \"sumbangkan\", \"sy\": \"saya\", \"syp\": \"siapa\", \"tabanas\": \"tabungan pembangunan nasional\", \"tar\": \"nanti\", \"taun\": \"tahun\", \"tawh\": \"tahu\", \"tdi\": \"tadi\", \"te2p\": \"tetap\", \"tekor\": \"rugi\", \"telkom\": \"telekomunikasi\", \"telp\": \"telepon\", \"temen2\": \"teman-teman\", \"tengok\": \"menjenguk\", \"terbitin\": \"terbitkan\", \"tgl\": \"tanggal\", \"thanks\": \"terima kasih\", \"thd\": \"terhadap\", \"thx\": \"terima kasih\", \"tipi\": \"TV\", \"tkg\": \"tukang\", \"tll\": \"terlalu\", \"tlpn\": \"telepon\", \"tman\": \"teman\", \"tmbh\": \"tambah\", \"tmn2\": \"teman-teman\", \"tmph\": \"tumpah\", \"tnda\": \"tanda\", \"tnh\": \"tanah\", \"togel\": \"toto gelap\", \"tp\": \"tapi\", \"tq\": \"terima kasih\", \"trgntg\": \"tergantung\", \"trims\": \"terima kasih\", \"cb\": \"coba\", \"y\": \"ya\", \"munfik\": \"munafik\", \"reklamuk\": \"reklamasi\", \"sma\": \"sama\", \"tren\": \"trend\", \"ngehe\": \"kesal\", \"mz\": \"mas\", \"analisise\": \"analisis\", \"sadaar\": \"sadar\", \"sept\": \"september\", \"nmenarik\": \"menarik\", \"zonk\": \"bodoh\", \"rights\": \"benar\", \"simiskin\": \"miskin\", \"ngumpet\": \"sembunyi\", \"hardcore\": \"keras\", \"akhirx\": \"akhirnya\", \"solve\": \"solusi\", \"watuk\": \"batuk\", \"ngebully\": \"intimidasi\", \"masy\": \"masyarakat\", \"still\": \"masih\", \"tauk\": \"tahu\", \"mbual\": \"bual\", \"tioghoa\": \"tionghoa\", \"ngentotin\": \"senggama\", \"kentot\": \"senggama\", \"faktakta\": \"fakta\", \"sohib\": \"teman\", \"rubahnn\": \"rubah\", \"trlalu\": \"terlalu\", \"nyela\": \"cela\", \"heters\": \"pembenci\", \"nyembah\": \"sembah\", \"most\": \"paling\", \"ikon\": \"lambang\", \"light\": \"terang\", \"pndukung\": \"pendukung\", \"setting\": \"atur\", \"seting\": \"akting\", \"next\": \"lanjut\", \"waspadalah\": \"waspada\", \"gantengsaya\": \"ganteng\", \"parte\": \"partai\", \"nyerang\": \"serang\", \"nipu\": \"tipu\", \"ktipu\": \"tipu\", \"jentelmen\": \"berani\", \"buangbuang\": \"buang\", \"tsangka\": \"tersangka\", \"kurng\": \"kurang\", \"ista\": \"nista\", \"less\": \"kurang\", \"koar\": \"teriak\", \"paranoid\": \"takut\", \"problem\": \"masalah\", \"tahi\": \"kotoran\", \"tirani\": \"tiran\", \"tilep\": \"tilap\", \"happy\": \"bahagia\", \"tak\": \"tidak\", \"penertiban\": \"tertib\", \"uasai\": \"kuasa\", \"mnolak\": \"tolak\", \"trending\": \"trend\", \"taik\": \"tahi\", \"wkwkkw\": \"tertawa\", \"ahokncc\": \"ahok\", \"istaa\": \"nista\", \"benarjujur\": \"jujur\", \"mgkin\": \"mungkin\"}"
   ]
  },
  {
   "cell_type": "code",
   "execution_count": 22,
   "metadata": {},
   "outputs": [],
   "source": [
    "def fix_slangwords(text):\n",
    "    words = text.split()\n",
    "    fixed_words = []\n",
    "    \n",
    "    for word in words: \n",
    "        if word.lower() in slangwords:\n",
    "            fixed_words.append(slangwords[word.lower()])\n",
    "        else:\n",
    "            fixed_words.append(word)\n",
    "            \n",
    "    fixed_text = ' '.join(fixed_words)\n",
    "    return fixed_text"
   ]
  },
  {
   "cell_type": "markdown",
   "metadata": {},
   "source": [
    "## Apply"
   ]
  },
  {
   "cell_type": "code",
   "execution_count": 23,
   "metadata": {},
   "outputs": [],
   "source": [
    "# Membersihkan teks dan menyimpannya di kolom 'text_clean'\n",
    "clean_df['text_clean'] = clean_df['content'].apply(cleaningText)\n",
    "\n",
    "# Mengubah huruf dalam teks menjadi huruf kecil dan menyimpannya di 'text_casefoldingText'\n",
    "clean_df['text_casefoldingText'] = clean_df['text_clean'].apply(casefoldingText)\n",
    "\n",
    "# Mengganti kata-kata slang dengan kata-kata standar dan menyimpannya di 'text_slangwords'\n",
    "clean_df['text_slangwords'] = clean_df['text_casefoldingText'].apply(fix_slangwords)\n",
    "\n",
    "# Memecah teks menjadi token (kata-kata) dan menyimpannya di 'text_tokenizingText'\n",
    "clean_df['text_tokenizingText'] = clean_df['text_slangwords'].apply(tokenizingText)\n",
    "\n",
    "# Menghapus kata-kata stop (kata-kata umum) dan menyimpannya di 'text_stopword'\n",
    "clean_df['text_stopword'] = clean_df['text_tokenizingText'].apply(filteringText)\n",
    "\n",
    "# Menggabungkan token-token menjadi kalimat dan menyimpannya di 'text_akhir'\n",
    "clean_df['text_akhir'] = clean_df['text_stopword'].apply(toSentence)"
   ]
  },
  {
   "cell_type": "code",
   "execution_count": 24,
   "metadata": {},
   "outputs": [
    {
     "data": {
      "text/html": [
       "<div>\n",
       "<style scoped>\n",
       "    .dataframe tbody tr th:only-of-type {\n",
       "        vertical-align: middle;\n",
       "    }\n",
       "\n",
       "    .dataframe tbody tr th {\n",
       "        vertical-align: top;\n",
       "    }\n",
       "\n",
       "    .dataframe thead th {\n",
       "        text-align: right;\n",
       "    }\n",
       "</style>\n",
       "<table border=\"1\" class=\"dataframe\">\n",
       "  <thead>\n",
       "    <tr style=\"text-align: right;\">\n",
       "      <th></th>\n",
       "      <th>reviewId</th>\n",
       "      <th>userName</th>\n",
       "      <th>userImage</th>\n",
       "      <th>content</th>\n",
       "      <th>score</th>\n",
       "      <th>thumbsUpCount</th>\n",
       "      <th>reviewCreatedVersion</th>\n",
       "      <th>at</th>\n",
       "      <th>replyContent</th>\n",
       "      <th>repliedAt</th>\n",
       "      <th>appVersion</th>\n",
       "      <th>text_clean</th>\n",
       "      <th>text_casefoldingText</th>\n",
       "      <th>text_slangwords</th>\n",
       "      <th>text_tokenizingText</th>\n",
       "      <th>text_stopword</th>\n",
       "      <th>text_akhir</th>\n",
       "    </tr>\n",
       "  </thead>\n",
       "  <tbody>\n",
       "    <tr>\n",
       "      <th>0</th>\n",
       "      <td>ae75ea02-47b6-43a6-9853-344bb45f0455</td>\n",
       "      <td>Pengguna Google</td>\n",
       "      <td>https://play-lh.googleusercontent.com/EGemoI2N...</td>\n",
       "      <td>Perbaikin dulu aplikasinya, jaringan stabil be...</td>\n",
       "      <td>3</td>\n",
       "      <td>43</td>\n",
       "      <td>1.55.0</td>\n",
       "      <td>2024-06-26 23:25:12</td>\n",
       "      <td>Hi, Kak. Maaf banget jadi bikin gak nyaman. Ni...</td>\n",
       "      <td>2024-06-27 21:56:30</td>\n",
       "      <td>1.55.0</td>\n",
       "      <td>Perbaikin dulu aplikasinya jaringan stabil beg...</td>\n",
       "      <td>perbaikin dulu aplikasinya jaringan stabil beg...</td>\n",
       "      <td>perbaikin dulu aplikasinya jaringan stabil beg...</td>\n",
       "      <td>[perbaikin, dulu, aplikasinya, jaringan, stabi...</td>\n",
       "      <td>[perbaikin, aplikasinya, jaringan, stabil, buk...</td>\n",
       "      <td>perbaikin aplikasinya jaringan stabil buka apl...</td>\n",
       "    </tr>\n",
       "    <tr>\n",
       "      <th>1</th>\n",
       "      <td>85d141d6-fce7-4d4e-a016-a665633fe5b4</td>\n",
       "      <td>Pengguna Google</td>\n",
       "      <td>https://play-lh.googleusercontent.com/EGemoI2N...</td>\n",
       "      <td>Jadi saya akan mulai dengan memberitahu bahwa ...</td>\n",
       "      <td>1</td>\n",
       "      <td>8</td>\n",
       "      <td>1.55.0</td>\n",
       "      <td>2024-07-10 22:55:50</td>\n",
       "      <td>Hi, Kak. Maaf banget jadi bikin gak nyaman. Ni...</td>\n",
       "      <td>2024-07-10 23:42:24</td>\n",
       "      <td>1.55.0</td>\n",
       "      <td>Jadi saya akan mulai dengan memberitahu bahwa ...</td>\n",
       "      <td>jadi saya akan mulai dengan memberitahu bahwa ...</td>\n",
       "      <td>jadi saya akan mulai dengan memberitahu bahwa ...</td>\n",
       "      <td>[jadi, saya, akan, mulai, dengan, memberitahu,...</td>\n",
       "      <td>[memberitahu, hotspot, teman, jaringan, byu, b...</td>\n",
       "      <td>memberitahu hotspot teman jaringan byu buruk m...</td>\n",
       "    </tr>\n",
       "    <tr>\n",
       "      <th>2</th>\n",
       "      <td>7095b585-ce65-49f9-a9ee-170773fb55df</td>\n",
       "      <td>Pengguna Google</td>\n",
       "      <td>https://play-lh.googleusercontent.com/EGemoI2N...</td>\n",
       "      <td>Untuk kecepatan jaringan mohon lebih ditingkat...</td>\n",
       "      <td>1</td>\n",
       "      <td>1</td>\n",
       "      <td>1.55.0</td>\n",
       "      <td>2024-07-10 09:13:18</td>\n",
       "      <td>Hi, Kak. Maaf banget jadi bikin gak nyaman. Ni...</td>\n",
       "      <td>2024-07-10 21:13:07</td>\n",
       "      <td>1.55.0</td>\n",
       "      <td>Untuk kecepatan jaringan mohon lebih ditingkat...</td>\n",
       "      <td>untuk kecepatan jaringan mohon lebih ditingkat...</td>\n",
       "      <td>untuk kecepatan jaringan mohon lebih ditingkat...</td>\n",
       "      <td>[untuk, kecepatan, jaringan, mohon, lebih, dit...</td>\n",
       "      <td>[kecepatan, jaringan, mohon, ditingkatkan, mai...</td>\n",
       "      <td>kecepatan jaringan mohon ditingkatkan main gam...</td>\n",
       "    </tr>\n",
       "    <tr>\n",
       "      <th>3</th>\n",
       "      <td>cc4fbfad-d0a0-495a-a7ce-00ba02478e16</td>\n",
       "      <td>Pengguna Google</td>\n",
       "      <td>https://play-lh.googleusercontent.com/EGemoI2N...</td>\n",
       "      <td>Tolonglah ya buat aplikasi By.U ini, sering ba...</td>\n",
       "      <td>1</td>\n",
       "      <td>99</td>\n",
       "      <td>1.55.0</td>\n",
       "      <td>2024-07-03 21:31:55</td>\n",
       "      <td>Hi, Kak. Maaf banget jadi bikin gak nyaman. Ni...</td>\n",
       "      <td>2024-07-03 21:34:55</td>\n",
       "      <td>1.55.0</td>\n",
       "      <td>Tolonglah ya buat aplikasi ByU ini sering bang...</td>\n",
       "      <td>tolonglah ya buat aplikasi byu ini sering bang...</td>\n",
       "      <td>tolonglah iya buat aplikasi byu ini sering ban...</td>\n",
       "      <td>[tolonglah, iya, buat, aplikasi, byu, ini, ser...</td>\n",
       "      <td>[tolonglah, aplikasi, byu, banget, sinyal, hil...</td>\n",
       "      <td>tolonglah aplikasi byu banget sinyal hilang e ...</td>\n",
       "    </tr>\n",
       "    <tr>\n",
       "      <th>4</th>\n",
       "      <td>d67e1a7a-12ad-4c0c-93a0-b7c184126420</td>\n",
       "      <td>Pengguna Google</td>\n",
       "      <td>https://play-lh.googleusercontent.com/EGemoI2N...</td>\n",
       "      <td>Jaringan nya kadang lelet banget dan sekarang ...</td>\n",
       "      <td>3</td>\n",
       "      <td>44</td>\n",
       "      <td>1.55.0</td>\n",
       "      <td>2024-06-16 08:26:36</td>\n",
       "      <td>Halo, pagi Kak :) Maaf banget ya Kak jadi biki...</td>\n",
       "      <td>2024-06-16 08:31:31</td>\n",
       "      <td>1.55.0</td>\n",
       "      <td>Jaringan nya kadang lelet banget dan sekarang ...</td>\n",
       "      <td>jaringan nya kadang lelet banget dan sekarang ...</td>\n",
       "      <td>jaringan nya kadang lambat banget dan sekarang...</td>\n",
       "      <td>[jaringan, nya, kadang, lambat, banget, dan, s...</td>\n",
       "      <td>[jaringan, kadang, lambat, banget, aplikasinya...</td>\n",
       "      <td>jaringan kadang lambat banget aplikasinya terb...</td>\n",
       "    </tr>\n",
       "  </tbody>\n",
       "</table>\n",
       "</div>"
      ],
      "text/plain": [
       "                               reviewId         userName  \\\n",
       "0  ae75ea02-47b6-43a6-9853-344bb45f0455  Pengguna Google   \n",
       "1  85d141d6-fce7-4d4e-a016-a665633fe5b4  Pengguna Google   \n",
       "2  7095b585-ce65-49f9-a9ee-170773fb55df  Pengguna Google   \n",
       "3  cc4fbfad-d0a0-495a-a7ce-00ba02478e16  Pengguna Google   \n",
       "4  d67e1a7a-12ad-4c0c-93a0-b7c184126420  Pengguna Google   \n",
       "\n",
       "                                           userImage  \\\n",
       "0  https://play-lh.googleusercontent.com/EGemoI2N...   \n",
       "1  https://play-lh.googleusercontent.com/EGemoI2N...   \n",
       "2  https://play-lh.googleusercontent.com/EGemoI2N...   \n",
       "3  https://play-lh.googleusercontent.com/EGemoI2N...   \n",
       "4  https://play-lh.googleusercontent.com/EGemoI2N...   \n",
       "\n",
       "                                             content  score  thumbsUpCount  \\\n",
       "0  Perbaikin dulu aplikasinya, jaringan stabil be...      3             43   \n",
       "1  Jadi saya akan mulai dengan memberitahu bahwa ...      1              8   \n",
       "2  Untuk kecepatan jaringan mohon lebih ditingkat...      1              1   \n",
       "3  Tolonglah ya buat aplikasi By.U ini, sering ba...      1             99   \n",
       "4  Jaringan nya kadang lelet banget dan sekarang ...      3             44   \n",
       "\n",
       "  reviewCreatedVersion                  at  \\\n",
       "0               1.55.0 2024-06-26 23:25:12   \n",
       "1               1.55.0 2024-07-10 22:55:50   \n",
       "2               1.55.0 2024-07-10 09:13:18   \n",
       "3               1.55.0 2024-07-03 21:31:55   \n",
       "4               1.55.0 2024-06-16 08:26:36   \n",
       "\n",
       "                                        replyContent           repliedAt  \\\n",
       "0  Hi, Kak. Maaf banget jadi bikin gak nyaman. Ni... 2024-06-27 21:56:30   \n",
       "1  Hi, Kak. Maaf banget jadi bikin gak nyaman. Ni... 2024-07-10 23:42:24   \n",
       "2  Hi, Kak. Maaf banget jadi bikin gak nyaman. Ni... 2024-07-10 21:13:07   \n",
       "3  Hi, Kak. Maaf banget jadi bikin gak nyaman. Ni... 2024-07-03 21:34:55   \n",
       "4  Halo, pagi Kak :) Maaf banget ya Kak jadi biki... 2024-06-16 08:31:31   \n",
       "\n",
       "  appVersion                                         text_clean  \\\n",
       "0     1.55.0  Perbaikin dulu aplikasinya jaringan stabil beg...   \n",
       "1     1.55.0  Jadi saya akan mulai dengan memberitahu bahwa ...   \n",
       "2     1.55.0  Untuk kecepatan jaringan mohon lebih ditingkat...   \n",
       "3     1.55.0  Tolonglah ya buat aplikasi ByU ini sering bang...   \n",
       "4     1.55.0  Jaringan nya kadang lelet banget dan sekarang ...   \n",
       "\n",
       "                                text_casefoldingText  \\\n",
       "0  perbaikin dulu aplikasinya jaringan stabil beg...   \n",
       "1  jadi saya akan mulai dengan memberitahu bahwa ...   \n",
       "2  untuk kecepatan jaringan mohon lebih ditingkat...   \n",
       "3  tolonglah ya buat aplikasi byu ini sering bang...   \n",
       "4  jaringan nya kadang lelet banget dan sekarang ...   \n",
       "\n",
       "                                     text_slangwords  \\\n",
       "0  perbaikin dulu aplikasinya jaringan stabil beg...   \n",
       "1  jadi saya akan mulai dengan memberitahu bahwa ...   \n",
       "2  untuk kecepatan jaringan mohon lebih ditingkat...   \n",
       "3  tolonglah iya buat aplikasi byu ini sering ban...   \n",
       "4  jaringan nya kadang lambat banget dan sekarang...   \n",
       "\n",
       "                                 text_tokenizingText  \\\n",
       "0  [perbaikin, dulu, aplikasinya, jaringan, stabi...   \n",
       "1  [jadi, saya, akan, mulai, dengan, memberitahu,...   \n",
       "2  [untuk, kecepatan, jaringan, mohon, lebih, dit...   \n",
       "3  [tolonglah, iya, buat, aplikasi, byu, ini, ser...   \n",
       "4  [jaringan, nya, kadang, lambat, banget, dan, s...   \n",
       "\n",
       "                                       text_stopword  \\\n",
       "0  [perbaikin, aplikasinya, jaringan, stabil, buk...   \n",
       "1  [memberitahu, hotspot, teman, jaringan, byu, b...   \n",
       "2  [kecepatan, jaringan, mohon, ditingkatkan, mai...   \n",
       "3  [tolonglah, aplikasi, byu, banget, sinyal, hil...   \n",
       "4  [jaringan, kadang, lambat, banget, aplikasinya...   \n",
       "\n",
       "                                          text_akhir  \n",
       "0  perbaikin aplikasinya jaringan stabil buka apl...  \n",
       "1  memberitahu hotspot teman jaringan byu buruk m...  \n",
       "2  kecepatan jaringan mohon ditingkatkan main gam...  \n",
       "3  tolonglah aplikasi byu banget sinyal hilang e ...  \n",
       "4  jaringan kadang lambat banget aplikasinya terb...  "
      ]
     },
     "execution_count": 24,
     "metadata": {},
     "output_type": "execute_result"
    }
   ],
   "source": [
    "clean_df.head()"
   ]
  },
  {
   "cell_type": "markdown",
   "metadata": {},
   "source": [
    "# Pelabelan"
   ]
  },
  {
   "cell_type": "markdown",
   "metadata": {},
   "source": [
    "pelabelan adalah proses pemberian kategori atau label pada setiap entri data berdasarkan informasi yang tersedia"
   ]
  },
  {
   "cell_type": "markdown",
   "metadata": {},
   "source": [
    "## Meminta data untuk kata kata positif"
   ]
  },
  {
   "cell_type": "code",
   "execution_count": 25,
   "metadata": {},
   "outputs": [],
   "source": [
    "import csv\n",
    "import requests\n",
    "from io import StringIO\n",
    "\n",
    "# Membaca data kamus kata-kata positif dari Github\n",
    "lexicon_positive = dict() \n",
    "\n",
    "# Mengirim perminatatn HTTP untuk mendapatkan file csv dari github\n",
    "response = requests.get('https://raw.githubusercontent.com/angelmetanosaa/dataset/main/lexicon_positive.csv')\n",
    "\n",
    "# Jika permintaaan berhasil\n",
    "if response.status_code == 200:\n",
    "    # Membaca teks respons sebagai file CSV menggunakan pembaca CSV dengan pemisah koma\n",
    "    reader = csv.reader(StringIO(response.text), delimiter=',')\n",
    "    \n",
    "    # Mengulangi setiap baris dalam file csv\n",
    "    for row in reader:\n",
    "        # Menambahkan kata-kata positif dan skornya ke dalam kamus lexicon_positive\n",
    "        lexicon_positive[row[0]] = int(row[1])\n",
    "    \n",
    "else:\n",
    "    print(\"Failder to fetch positive lexicon data\")\n",
    "        \n"
   ]
  },
  {
   "cell_type": "markdown",
   "metadata": {},
   "source": [
    "## Meminta data untuk kata kata negatif"
   ]
  },
  {
   "cell_type": "code",
   "execution_count": 26,
   "metadata": {},
   "outputs": [],
   "source": [
    "# Membaca data kamus kata-kata negatif dari GitHub\n",
    "lexicon_negative = dict()\n",
    "\n",
    "# Mengirim perminatatn HTTP untuk mendapatkan file csv dari githu\n",
    "response = requests.get(\"https://raw.githubusercontent.com/angelmetanosaa/dataset/main/lexicon_negative.csv\")\n",
    "\n",
    "# Jika permintaan berhasil\n",
    "if response.status_code == 200:\n",
    "    # Membaca teks respons sebagai file CSV menggunakan pembaca CSV dengan pemisah koma\n",
    "    reader = csv.reader(StringIO(response.text), delimiter=',')\n",
    "    \n",
    "    # Mengulangi setiap baris dalam file CSV\n",
    "    for row in reader:\n",
    "        # Menambahkan kata-kata negatif dan skornya dalam kamus lexicon_negative\n",
    "        lexicon_negative[row[0]] = int(row[1])\n",
    "        \n",
    "else:\n",
    "    print(\"Failed to fetch negative lexion data\")"
   ]
  },
  {
   "cell_type": "markdown",
   "metadata": {},
   "source": [
    "## Fungsi untuk menentukan polaritas sentimen dari tweet"
   ]
  },
  {
   "cell_type": "markdown",
   "metadata": {},
   "source": [
    "fungsi ini akan memeriksa setiap kata pada teks, jika tepat, skor sentimen akan ditambahkan atau dikurangkan sesuai dengan skor kata tersebut dalam kamus. Skor sentimen akan digunakan untuk menentukan polaritas teks, positif atau negatif"
   ]
  },
  {
   "cell_type": "code",
   "execution_count": 27,
   "metadata": {},
   "outputs": [],
   "source": [
    "def sentiment_analysis_lexicon_indonesia(text):\n",
    "    # inisialisasi skor sentimen ke 0\n",
    "    score = 0\n",
    "    \n",
    "    # Mengulangi setiap kata dalam teks\n",
    "    for word in text:\n",
    "        # Jika kata ada dalam kamus positif, tambahkan skornya ke skor sentimen\n",
    "        if(word in lexicon_positive):\n",
    "            score = score + lexicon_positive[word]\n",
    "     \n",
    "    # Mengulangi setiap kata dalam teks        \n",
    "    for word in text:\n",
    "        if (word in lexicon_negative):\n",
    "            score = score + lexicon_negative[word]\n",
    "    \n",
    "    # inisialisasi variabel polaritas        \n",
    "    polarity = ''\n",
    "    # Jika skor sentimen lebih besar atau sama dengan 0, maka polaritas adalah positif\n",
    "    if(score >= 0):\n",
    "        polarity = 'positive'\n",
    "    # Jika skor sentimen kuran dari 0, maka polaritas adalah negatif\n",
    "    elif(score < 0):\n",
    "        polarity = 'negative'\n",
    "        \n",
    "        \n",
    "    return score, polarity"
   ]
  },
  {
   "cell_type": "markdown",
   "metadata": {},
   "source": [
    "## Apply"
   ]
  },
  {
   "cell_type": "code",
   "execution_count": 28,
   "metadata": {},
   "outputs": [
    {
     "name": "stdout",
     "output_type": "stream",
     "text": [
      "polarity\n",
      "positive    62660\n",
      "negative    37293\n",
      "Name: count, dtype: int64\n"
     ]
    }
   ],
   "source": [
    "results = clean_df['text_stopword'].apply(sentiment_analysis_lexicon_indonesia)\n",
    "\n",
    "results = list(zip(*results))\n",
    "\n",
    "clean_df['polarity_score'] = results[0]\n",
    "clean_df['polarity'] = results[1]\n",
    "\n",
    "print(clean_df['polarity'].value_counts())\n"
   ]
  },
  {
   "cell_type": "code",
   "execution_count": 29,
   "metadata": {},
   "outputs": [
    {
     "name": "stdout",
     "output_type": "stream",
     "text": [
      "<class 'pandas.core.frame.DataFrame'>\n",
      "Index: 99953 entries, 0 to 128603\n",
      "Data columns (total 19 columns):\n",
      " #   Column                Non-Null Count  Dtype         \n",
      "---  ------                --------------  -----         \n",
      " 0   reviewId              99953 non-null  object        \n",
      " 1   userName              99953 non-null  object        \n",
      " 2   userImage             99953 non-null  object        \n",
      " 3   content               99953 non-null  object        \n",
      " 4   score                 99953 non-null  int64         \n",
      " 5   thumbsUpCount         99953 non-null  int64         \n",
      " 6   reviewCreatedVersion  99953 non-null  object        \n",
      " 7   at                    99953 non-null  datetime64[ns]\n",
      " 8   replyContent          99953 non-null  object        \n",
      " 9   repliedAt             99953 non-null  datetime64[ns]\n",
      " 10  appVersion            99953 non-null  object        \n",
      " 11  text_clean            99953 non-null  object        \n",
      " 12  text_casefoldingText  99953 non-null  object        \n",
      " 13  text_slangwords       99953 non-null  object        \n",
      " 14  text_tokenizingText   99953 non-null  object        \n",
      " 15  text_stopword         99953 non-null  object        \n",
      " 16  text_akhir            99953 non-null  object        \n",
      " 17  polarity_score        99953 non-null  int64         \n",
      " 18  polarity              99953 non-null  object        \n",
      "dtypes: datetime64[ns](2), int64(3), object(14)\n",
      "memory usage: 15.3+ MB\n"
     ]
    }
   ],
   "source": [
    "clean_df.info()"
   ]
  },
  {
   "cell_type": "markdown",
   "metadata": {},
   "source": [
    "## Visualisasi"
   ]
  },
  {
   "cell_type": "markdown",
   "metadata": {},
   "source": [
    "### Pie Chart"
   ]
  },
  {
   "cell_type": "code",
   "execution_count": 30,
   "metadata": {},
   "outputs": [
    {
     "name": "stdout",
     "output_type": "stream",
     "text": [
      "['positive', 'negative']\n",
      "[62660 37293]\n"
     ]
    },
    {
     "data": {
      "image/png": "[encoded data removed]",
      "text/plain": [
       "<Figure size 600x600 with 1 Axes>"
      ]
     },
     "metadata": {},
     "output_type": "display_data"
    }
   ],
   "source": [
    "import matplotlib.pyplot as plt\n",
    "\n",
    "# Membuat objek gambar dan sumbu dengan ukuran (6, 6) inci.\n",
    "fig, ax = plt.subplots(figsize=(6, 6))\n",
    "\n",
    "# Mengambil jumlah data polaritas sentimen dari DataFrame 'clean_df' dan mentimpannya dalam list 'sizes'\n",
    "# sizes = [count for count in clean_df['polarity'].value_counts()] \n",
    "sizes = clean_df['polarity'].value_counts()\n",
    "sizes = sizes.values\n",
    "\n",
    "labels = list(clean_df['polarity'].value_counts().index)\n",
    "\n",
    "print(labels)\n",
    "print(sizes)\n",
    "\n",
    "colors = ['#66b3ff','#ff9999']\n",
    "\n",
    "# Membuat pie chart dengan data 'sizes', 'labels', dan 'explode' yang telah ditentukan.\n",
    "ax.pie(x=sizes, labels=labels, autopct='%1.1f%%', colors=colors, textprops={'fontsize': 14})\n",
    "\n",
    "# Menetapkan judul untuk pie chart dengan ukuran font dan jarak (padding) tertentu\n",
    "ax.set_title('Sentiment Polarity on Review Data', fontsize=16, pad=20)\n",
    "\n",
    "plt.show()"
   ]
  },
  {
   "cell_type": "markdown",
   "metadata": {},
   "source": [
    "Hasil dari value_counts() adalah sebuah Series pandas di mana indeksnya adalah nilai unik dari kolom, dan nilai di Series tersebut adalah jumlah kemunculannya."
   ]
  },
  {
   "cell_type": "markdown",
   "metadata": {},
   "source": [
    "Dari piechart didapatkan 62,6% persen dari sentimen positive dan 37,4% sentimen negative"
   ]
  },
  {
   "cell_type": "markdown",
   "metadata": {},
   "source": [
    "### Distribusi Kata"
   ]
  },
  {
   "cell_type": "code",
   "execution_count": 31,
   "metadata": {},
   "outputs": [
    {
     "data": {
      "image/png": "[encoded data removed]",
      "text/plain": [
       "<Figure size 1000x600 with 1 Axes>"
      ]
     },
     "metadata": {},
     "output_type": "display_data"
    },
    {
     "data": {
      "image/png": "[encoded data removed]",
      "text/plain": [
       "<Figure size 1000x600 with 1 Axes>"
      ]
     },
     "metadata": {},
     "output_type": "display_data"
    },
    {
     "data": {
      "image/png": "[encoded data removed]",
      "text/plain": [
       "<Figure size 1200x600 with 1 Axes>"
      ]
     },
     "metadata": {},
     "output_type": "display_data"
    }
   ],
   "source": [
    "import seaborn as sns\n",
    "import matplotlib.pyplot as plt\n",
    "from sklearn.feature_extraction.text import TfidfVectorizer\n",
    "\n",
    "# Set the figure size\n",
    "plt.figure(figsize=(10, 6))\n",
    "\n",
    "# Check class distribution\n",
    "class_dist_plot = sns.countplot(x='polarity', data=clean_df)\n",
    "plt.title('Class Distribution')\n",
    "\n",
    "# Add counts above the bars on the plot\n",
    "for p in class_dist_plot.patches:\n",
    "    class_dist_plot.annotate(format(p.get_height(), '.0f'),\n",
    "                              (p.get_x() + p.get_width() / 2., p.get_height()),\n",
    "                              ha='center', va='center',\n",
    "                              xytext=(0, 10),\n",
    "                              textcoords='offset points')\n",
    "\n",
    "plt.show()\n",
    "\n",
    "plt.figure(figsize=(10, 6))\n",
    "\n",
    "clean_df['text_length'] = clean_df['text_akhir'].apply(lambda x: len(x.split()))\n",
    "sns.histplot(clean_df['text_length'])\n",
    "plt.title('Text Length Distribution')\n",
    "plt.show()\n",
    "\n",
    "plt.figure(figsize=(12, 6))\n",
    "\n",
    "vectorizer = TfidfVectorizer()\n",
    "X = vectorizer.fit_transform(clean_df['text_akhir'])\n",
    "tfidf_df = pd.DataFrame(X.toarray(), columns=vectorizer.get_feature_names_out())\n",
    "tfidf_df = tfidf_df.sum().reset_index(name='jumlah')\n",
    "tfidf_df = tfidf_df.sort_values('jumlah', ascending=False).head(20)\n",
    "sns.barplot(x='jumlah', y='index', data=tfidf_df)\n",
    "plt.title('Most Frequent Words')\n",
    "plt.show()"
   ]
  },
  {
   "cell_type": "markdown",
   "metadata": {},
   "source": [
    "# Split"
   ]
  },
  {
   "cell_type": "code",
   "execution_count": 32,
   "metadata": {},
   "outputs": [
    {
     "data": {
      "text/html": [
       "<div>\n",
       "<style scoped>\n",
       "    .dataframe tbody tr th:only-of-type {\n",
       "        vertical-align: middle;\n",
       "    }\n",
       "\n",
       "    .dataframe tbody tr th {\n",
       "        vertical-align: top;\n",
       "    }\n",
       "\n",
       "    .dataframe thead th {\n",
       "        text-align: right;\n",
       "    }\n",
       "</style>\n",
       "<table border=\"1\" class=\"dataframe\">\n",
       "  <thead>\n",
       "    <tr style=\"text-align: right;\">\n",
       "      <th></th>\n",
       "      <th>aktif</th>\n",
       "      <th>aktivasi</th>\n",
       "      <th>akun</th>\n",
       "      <th>aman</th>\n",
       "      <th>aneh</th>\n",
       "      <th>apk</th>\n",
       "      <th>aplikasi</th>\n",
       "      <th>aplikasinya</th>\n",
       "      <th>app</th>\n",
       "      <th>bagus</th>\n",
       "      <th>...</th>\n",
       "      <th>turun</th>\n",
       "      <th>uang</th>\n",
       "      <th>udh</th>\n",
       "      <th>ulang</th>\n",
       "      <th>unlimited</th>\n",
       "      <th>update</th>\n",
       "      <th>via</th>\n",
       "      <th>wifi</th>\n",
       "      <th>yah</th>\n",
       "      <th>youtube</th>\n",
       "    </tr>\n",
       "  </thead>\n",
       "  <tbody>\n",
       "    <tr>\n",
       "      <th>0</th>\n",
       "      <td>0.000000</td>\n",
       "      <td>0.0</td>\n",
       "      <td>0.0</td>\n",
       "      <td>0.0</td>\n",
       "      <td>0.0</td>\n",
       "      <td>0.0</td>\n",
       "      <td>0.215213</td>\n",
       "      <td>0.282194</td>\n",
       "      <td>0.0</td>\n",
       "      <td>0.000000</td>\n",
       "      <td>...</td>\n",
       "      <td>0.0</td>\n",
       "      <td>0.0</td>\n",
       "      <td>0.0</td>\n",
       "      <td>0.000000</td>\n",
       "      <td>0.0</td>\n",
       "      <td>0.293434</td>\n",
       "      <td>0.0</td>\n",
       "      <td>0.0</td>\n",
       "      <td>0.0</td>\n",
       "      <td>0.0</td>\n",
       "    </tr>\n",
       "    <tr>\n",
       "      <th>1</th>\n",
       "      <td>0.000000</td>\n",
       "      <td>0.0</td>\n",
       "      <td>0.0</td>\n",
       "      <td>0.0</td>\n",
       "      <td>0.0</td>\n",
       "      <td>0.0</td>\n",
       "      <td>0.000000</td>\n",
       "      <td>0.000000</td>\n",
       "      <td>0.0</td>\n",
       "      <td>0.000000</td>\n",
       "      <td>...</td>\n",
       "      <td>0.0</td>\n",
       "      <td>0.0</td>\n",
       "      <td>0.0</td>\n",
       "      <td>0.000000</td>\n",
       "      <td>0.0</td>\n",
       "      <td>0.000000</td>\n",
       "      <td>0.0</td>\n",
       "      <td>0.0</td>\n",
       "      <td>0.0</td>\n",
       "      <td>0.0</td>\n",
       "    </tr>\n",
       "    <tr>\n",
       "      <th>2</th>\n",
       "      <td>0.000000</td>\n",
       "      <td>0.0</td>\n",
       "      <td>0.0</td>\n",
       "      <td>0.0</td>\n",
       "      <td>0.0</td>\n",
       "      <td>0.0</td>\n",
       "      <td>0.000000</td>\n",
       "      <td>0.000000</td>\n",
       "      <td>0.0</td>\n",
       "      <td>0.000000</td>\n",
       "      <td>...</td>\n",
       "      <td>0.0</td>\n",
       "      <td>0.0</td>\n",
       "      <td>0.0</td>\n",
       "      <td>0.000000</td>\n",
       "      <td>0.0</td>\n",
       "      <td>0.000000</td>\n",
       "      <td>0.0</td>\n",
       "      <td>0.0</td>\n",
       "      <td>0.0</td>\n",
       "      <td>0.0</td>\n",
       "    </tr>\n",
       "    <tr>\n",
       "      <th>3</th>\n",
       "      <td>0.691864</td>\n",
       "      <td>0.0</td>\n",
       "      <td>0.0</td>\n",
       "      <td>0.0</td>\n",
       "      <td>0.0</td>\n",
       "      <td>0.0</td>\n",
       "      <td>0.197932</td>\n",
       "      <td>0.000000</td>\n",
       "      <td>0.0</td>\n",
       "      <td>0.000000</td>\n",
       "      <td>...</td>\n",
       "      <td>0.0</td>\n",
       "      <td>0.0</td>\n",
       "      <td>0.0</td>\n",
       "      <td>0.000000</td>\n",
       "      <td>0.0</td>\n",
       "      <td>0.000000</td>\n",
       "      <td>0.0</td>\n",
       "      <td>0.0</td>\n",
       "      <td>0.0</td>\n",
       "      <td>0.0</td>\n",
       "    </tr>\n",
       "    <tr>\n",
       "      <th>4</th>\n",
       "      <td>0.000000</td>\n",
       "      <td>0.0</td>\n",
       "      <td>0.0</td>\n",
       "      <td>0.0</td>\n",
       "      <td>0.0</td>\n",
       "      <td>0.0</td>\n",
       "      <td>0.000000</td>\n",
       "      <td>0.236282</td>\n",
       "      <td>0.0</td>\n",
       "      <td>0.161737</td>\n",
       "      <td>...</td>\n",
       "      <td>0.0</td>\n",
       "      <td>0.0</td>\n",
       "      <td>0.0</td>\n",
       "      <td>0.298456</td>\n",
       "      <td>0.0</td>\n",
       "      <td>0.245694</td>\n",
       "      <td>0.0</td>\n",
       "      <td>0.0</td>\n",
       "      <td>0.0</td>\n",
       "      <td>0.0</td>\n",
       "    </tr>\n",
       "  </tbody>\n",
       "</table>\n",
       "<p>5 rows × 200 columns</p>\n",
       "</div>"
      ],
      "text/plain": [
       "      aktif  aktivasi  akun  aman  aneh  apk  aplikasi  aplikasinya  app  \\\n",
       "0  0.000000       0.0   0.0   0.0   0.0  0.0  0.215213     0.282194  0.0   \n",
       "1  0.000000       0.0   0.0   0.0   0.0  0.0  0.000000     0.000000  0.0   \n",
       "2  0.000000       0.0   0.0   0.0   0.0  0.0  0.000000     0.000000  0.0   \n",
       "3  0.691864       0.0   0.0   0.0   0.0  0.0  0.197932     0.000000  0.0   \n",
       "4  0.000000       0.0   0.0   0.0   0.0  0.0  0.000000     0.236282  0.0   \n",
       "\n",
       "      bagus  ...  turun  uang  udh     ulang  unlimited    update  via  wifi  \\\n",
       "0  0.000000  ...    0.0   0.0  0.0  0.000000        0.0  0.293434  0.0   0.0   \n",
       "1  0.000000  ...    0.0   0.0  0.0  0.000000        0.0  0.000000  0.0   0.0   \n",
       "2  0.000000  ...    0.0   0.0  0.0  0.000000        0.0  0.000000  0.0   0.0   \n",
       "3  0.000000  ...    0.0   0.0  0.0  0.000000        0.0  0.000000  0.0   0.0   \n",
       "4  0.161737  ...    0.0   0.0  0.0  0.298456        0.0  0.245694  0.0   0.0   \n",
       "\n",
       "   yah  youtube  \n",
       "0  0.0      0.0  \n",
       "1  0.0      0.0  \n",
       "2  0.0      0.0  \n",
       "3  0.0      0.0  \n",
       "4  0.0      0.0  \n",
       "\n",
       "[5 rows x 200 columns]"
      ]
     },
     "execution_count": 32,
     "metadata": {},
     "output_type": "execute_result"
    }
   ],
   "source": [
    "from sklearn.model_selection import train_test_split, GridSearchCV\n",
    "\n",
    "# Pisahkan data menjadi fitur (tweet) dan label (sentimen)\n",
    "X = clean_df['text_akhir']\n",
    "y = clean_df['polarity']\n",
    "\n",
    "# Ekstraksi fitur dengen TF-IDF\n",
    "tfidf = TfidfVectorizer(max_features=200, min_df=17, max_df=0.8)\n",
    "X_tfidf = tfidf.fit_transform(X)\n",
    "\n",
    "# Konversi hasil ekstraksi fitur menjadi dataframe\n",
    "features_df = pd.DataFrame(X_tfidf.toarray(), columns=tfidf.get_feature_names_out())\n",
    "\n",
    "# Bagi data menjadi data latih dan data uji\n",
    "X_train, X_test, y_train, y_test = train_test_split(X_tfidf, y, test_size=0.2, random_state=42)\n",
    "\n",
    "features_df.head()"
   ]
  },
  {
   "cell_type": "markdown",
   "metadata": {},
   "source": [
    "# Modeling"
   ]
  },
  {
   "cell_type": "markdown",
   "metadata": {},
   "source": [
    "## Menggunakan Pemodelan Naive Bayes (NB)"
   ]
  },
  {
   "cell_type": "code",
   "execution_count": 33,
   "metadata": {},
   "outputs": [],
   "source": [
    "import pandas as pd\n",
    "from sklearn.feature_extraction.text import TfidfVectorizer\n",
    "from sklearn.model_selection import train_test_split,GridSearchCV\n",
    "from sklearn.naive_bayes import BernoulliNB\n",
    "from sklearn.metrics import accuracy_score, precision_score"
   ]
  },
  {
   "cell_type": "code",
   "execution_count": 34,
   "metadata": {},
   "outputs": [
    {
     "name": "stdout",
     "output_type": "stream",
     "text": [
      "Naive Bayes - accuracy_train: 0.7941272104249518\n",
      "Naive Bayes - accuracy_test: 0.7936071232054425\n"
     ]
    }
   ],
   "source": [
    "# Membuat objek model Naive Bayes\n",
    "naive_bayes = BernoulliNB()\n",
    "\n",
    "# Melatih model Naive Bayes pada data pelatihan\n",
    "naive_bayes.fit(X_train.toarray(), y_train)\n",
    "\n",
    "# Prediksi sentimen pada data pelatihan dan data uji\n",
    "y_pred_train_nb = naive_bayes.predict(X_train.toarray())\n",
    "y_pred_test_nb = naive_bayes.predict(X_test.toarray())\n",
    "\n",
    "# Evaluasi akurasi model Naive Bayes\n",
    "accuracy_train_nb = accuracy_score(y_pred_train_nb, y_train)\n",
    "accuracy_test_nb = accuracy_score(y_pred_test_nb, y_test)\n",
    "\n",
    "# Menampilkan akurasi\n",
    "print('Naive Bayes - accuracy_train:', accuracy_train_nb)\n",
    "print('Naive Bayes - accuracy_test:', accuracy_test_nb)"
   ]
  },
  {
   "cell_type": "markdown",
   "metadata": {},
   "source": [
    "## Menggunakan Logstic Regression"
   ]
  },
  {
   "cell_type": "code",
   "execution_count": 35,
   "metadata": {},
   "outputs": [
    {
     "name": "stdout",
     "output_type": "stream",
     "text": [
      "Logistic Regression - accuracy_train: 0.9124709236887522\n",
      "Logistic Regression - accuracy_test: 0.9114601570706818\n"
     ]
    }
   ],
   "source": [
    "from sklearn.linear_model import LogisticRegression\n",
    "\n",
    "# Membuat objek model Logistic Regression\n",
    "logistic_regression = LogisticRegression()\n",
    "\n",
    "# Melatih model Logistic Regression pada data pelatihan\n",
    "logistic_regression.fit(X_train.toarray(), y_train)\n",
    "\n",
    "# Prediksi sentimen pada data pelatihan dan data uji\n",
    "y_pred_train_lr = logistic_regression.predict(X_train.toarray())\n",
    "y_pred_test_lr = logistic_regression.predict(X_test.toarray())\n",
    "\n",
    "# Evaluasi akurasi model Logistic Regression pada data pelatihan\n",
    "accuracy_train_lr = accuracy_score(y_pred_train_lr, y_train)\n",
    "\n",
    "# Evaluasi akurasi model Logistic Regression pada data uji\n",
    "accuracy_test_lr = accuracy_score(y_pred_test_lr, y_test)\n",
    "\n",
    "# Menampilkan akurasi\n",
    "print('Logistic Regression - accuracy_train:', accuracy_train_lr)\n",
    "print('Logistic Regression - accuracy_test:', accuracy_test_lr)"
   ]
  },
  {
   "cell_type": "markdown",
   "metadata": {},
   "source": [
    "## Menggunakan Random Forest"
   ]
  },
  {
   "cell_type": "code",
   "execution_count": 36,
   "metadata": {},
   "outputs": [
    {
     "name": "stdout",
     "output_type": "stream",
     "text": [
      "Random Forest - accuracy_train: 0.9728996273229784\n",
      "Random Forest - accuracy_test: 0.8967535390925917\n"
     ]
    }
   ],
   "source": [
    "from sklearn.ensemble import RandomForestClassifier\n",
    "\n",
    "# Membuat objek model Random Forest\n",
    "random_forest = RandomForestClassifier()\n",
    "\n",
    "# Melatih model Random Forest pada data pelatihan\n",
    "random_forest.fit(X_train.toarray(), y_train)\n",
    "\n",
    "# Prediksi sentimen pada data pelatihan dan data uji\n",
    "y_pred_train_rf = random_forest.predict(X_train.toarray())\n",
    "y_pred_test_rf = random_forest.predict(X_test.toarray())\n",
    "\n",
    "# Evaluasi akurasi model Random Forest\n",
    "accuracy_train_rf = accuracy_score(y_pred_train_rf, y_train)\n",
    "accuracy_test_rf = accuracy_score(y_pred_test_rf, y_test)\n",
    "\n",
    "# Menampilkan akurasi\n",
    "print('Random Forest - accuracy_train:', accuracy_train_rf)\n",
    "print('Random Forest - accuracy_test:', accuracy_test_rf)"
   ]
  },
  {
   "cell_type": "markdown",
   "metadata": {},
   "source": [
    "## Decision Tree"
   ]
  },
  {
   "cell_type": "code",
   "execution_count": 37,
   "metadata": {},
   "outputs": [
    {
     "name": "stdout",
     "output_type": "stream",
     "text": [
      "Decision Tree - accuracy_train: 0.9729121332633001\n",
      "Decision Tree - accuracy_test: 0.866589965484468\n"
     ]
    }
   ],
   "source": [
    "from sklearn.tree import DecisionTreeClassifier\n",
    "\n",
    "# Membuat objek model Decision Tree\n",
    "decision_tree = DecisionTreeClassifier()\n",
    "\n",
    "# Melatih model Decision Tree pada data pelatihan\n",
    "decision_tree.fit(X_train.toarray(), y_train)\n",
    "\n",
    "# Prediksi sentimen pada data pelatihan dan data uji\n",
    "y_pred_train_dt = decision_tree.predict(X_train.toarray())\n",
    "y_pred_test_dt = decision_tree.predict(X_test.toarray())\n",
    "\n",
    "# Evaluasi akurasi model Decision Tree\n",
    "accuracy_train_dt = accuracy_score(y_pred_train_dt, y_train)\n",
    "accuracy_test_dt = accuracy_score(y_pred_test_dt, y_test)\n",
    "\n",
    "# Menampilkan akurasi\n",
    "print('Decision Tree - accuracy_train:', accuracy_train_dt)\n",
    "print('Decision Tree - accuracy_test:', accuracy_test_dt)"
   ]
  },
  {
   "cell_type": "markdown",
   "metadata": {},
   "source": [
    "# Result"
   ]
  },
  {
   "cell_type": "code",
   "execution_count": 38,
   "metadata": {},
   "outputs": [
    {
     "name": "stdout",
     "output_type": "stream",
     "text": [
      "                 Model  Accuracy Test\n",
      "0          Naive Bayes       0.793607\n",
      "1        Random Forest       0.896754\n",
      "2  Logistic Regression       0.911460\n",
      "3        Decision Tree       0.866590\n"
     ]
    }
   ],
   "source": [
    "import pandas as pd\n",
    "\n",
    "# Membuat DataFrame untuk hasil akurasi\n",
    "results_df = pd.DataFrame({\n",
    "    'Model': ['Naive Bayes', 'Random Forest', 'Logistic Regression', 'Decision Tree'],\n",
    "    'Accuracy Train': [accuracy_train_nb, accuracy_train_rf, accuracy_train_lr, accuracy_train_dt],\n",
    "    'Accuracy Test': [accuracy_test_nb, accuracy_test_rf, accuracy_test_lr, accuracy_test_dt]\n",
    "})\n",
    "# Menampilkan hanya kolom \"Accuracy Test\"\n",
    "accuracy_test_only = results_df[['Model', 'Accuracy Test']]\n",
    "print(accuracy_test_only)"
   ]
  },
  {
   "cell_type": "code",
   "execution_count": 39,
   "metadata": {},
   "outputs": [
    {
     "name": "stdout",
     "output_type": "stream",
     "text": [
      "                 Model  Accuracy Test\n",
      "2  Logistic Regression       0.911460\n",
      "1        Random Forest       0.896754\n",
      "3        Decision Tree       0.866590\n",
      "0          Naive Bayes       0.793607\n"
     ]
    }
   ],
   "source": [
    "# Mengurutkan DataFrame berdasarkan kolom \"Accuracy Test\" dari tertinggi ke terendah\n",
    "accuracy_test_sorted = accuracy_test_only.sort_values(by='Accuracy Test', ascending=False)\n",
    "\n",
    "# Menampilkan DataFrame yang telah diurutkan\n",
    "print(accuracy_test_sorted)"
   ]
  },
  {
   "cell_type": "markdown",
   "metadata": {},
   "source": [
    "Dari data di atas kita dapat melihat bahwa Logistic Regression adalah model terbaik dalam kasus ini, diikuti oleh Random Forest, Decision Tree, Naive Bayes. Maka kita akan menggunakan logistic regression"
   ]
  },
  {
   "cell_type": "code",
   "execution_count": 45,
   "metadata": {},
   "outputs": [
    {
     "name": "stdout",
     "output_type": "stream",
     "text": [
      "Sentimen kalimat baru adalah POSITIF.\n"
     ]
    }
   ],
   "source": [
    "# Input kalimat baru dari pengguna\n",
    "kalimat_baru = input(\"Masukkan kalimat baru: \")\n",
    "# input : 'aplikasi yang lelet ketika log in dan memilikki UI/UX yang jelek'\n",
    "\n",
    "# Melakukan preprocessing pada kalimat baru\n",
    "kalimat_baru_cleaned = cleaningText(kalimat_baru)\n",
    "kalimat_baru_casefolded = casefoldingText(kalimat_baru_cleaned)\n",
    "kalimat_baru_slangfixed = fix_slangwords(kalimat_baru_casefolded)\n",
    "kalimat_baru_tokenized = tokenizingText(kalimat_baru_slangfixed)\n",
    "kalimat_baru_filtered = filteringText(kalimat_baru_tokenized)\n",
    "kalimat_baru_final = toSentence(kalimat_baru_filtered)\n",
    "\n",
    "# Menggunakan objek tfidf yang sudah di-fit dari pelatihan sebelumnya\n",
    "X_kalimat_baru = tfidf.transform([kalimat_baru_final])\n",
    "\n",
    "# Memperoleh prediksi sentimen kalimat baru\n",
    "prediksi_sentimen = logistic_regression.predict(X_kalimat_baru)\n",
    "\n",
    "# Menampilkan hasil prediksi\n",
    "if prediksi_sentimen[0] == 'positive':\n",
    "    print(\"Sentimen kalimat baru adalah POSITIF.\")\n",
    "else:\n",
    "    print(\"Sentimen kalimat baru adalah NEGATIF.\")"
   ]
  }
 ],
 "metadata": {
  "kernelspec": {
   "display_name": "Python 3",
   "language": "python",
   "name": "python3"
  },
  "language_info": {
   "codemirror_mode": {
    "name": "ipython",
    "version": 3
   },
   "file_extension": ".py",
   "mimetype": "text/x-python",
   "name": "python",
   "nbconvert_exporter": "python",
   "pygments_lexer": "ipython3",
   "version": "3.11.0"
  }
 },
 "nbformat": 4,
 "nbformat_minor": 2
}
